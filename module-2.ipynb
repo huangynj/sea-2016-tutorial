{
 "cells": [
  {
   "cell_type": "markdown",
   "metadata": {
    "ein.tags": [
     "worksheet-0"
    ]
   },
   "source": [
    "<p style=\"float:right\">\n",
    "<img src=\"images/logos/cu.png\" style=\"display:inline\" />\n",
    "<img src=\"images/logos/cires.png\" style=\"display:inline\" />\n",
    "<img src=\"images/logos/nasa.png\" style=\"display:inline\" />\n",
    "</p>\n",
    "\n",
    "# Python, Jupyter & pandas tutorial: Module 2\n",
    "\n",
    "## Obtaining data and basic inspection\n",
    "\n",
    "### Basic data access\n",
    "\n",
    "It is, of course, possible to obtain data (roughly construed -- we'll look at images here because they're simple to view) externally (or via the `%%script` magic, which saves the trouble of opening a separate terminal / command / browser window). We can fetch an image to the local filesystem, then display it with Markdown:"
   ]
  },
  {
   "cell_type": "code",
   "execution_count": 1,
   "metadata": {
    "autoscroll": "json-false",
    "collapsed": false,
    "ein.tags": [
     "worksheet-0"
    ]
   },
   "outputs": [
    {
     "name": "stderr",
     "output_type": "stream",
     "text": [
      "--2016-03-22 11:15:27--  ftp://sidads.colorado.edu/DATASETS/NOAA/G02135/Feb/N_197902_extn.png\n",
      "           => 'N_197902_extn.png'\n",
      "Resolving sidads.colorado.edu... 128.138.135.20\n",
      "Connecting to sidads.colorado.edu|128.138.135.20|:21... connected.\n",
      "Logging in as anonymous ... Logged in!\n",
      "==> SYST ... done.    ==> PWD ... done.\n",
      "==> TYPE I ... done.  ==> CWD (1) /DATASETS/NOAA/G02135/Feb ... done.\n",
      "==> SIZE N_197902_extn.png ... 224912\n",
      "==> PASV ... done.    ==> RETR N_197902_extn.png ... done.\n",
      "Length: 224912 (220K) (unauthoritative)\n",
      "\n",
      "     0K .......... .......... .......... .......... .......... 22% 7.15M 0s\n",
      "    50K .......... .......... .......... .......... .......... 45% 11.2M 0s\n",
      "   100K .......... .......... .......... .......... .......... 68% 11.3M 0s\n",
      "   150K .......... .......... .......... .......... .......... 91% 10.9M 0s\n",
      "   200K .......... .........                                  100% 12.7M=0.02s\n",
      "\n",
      "2016-03-22 11:15:27 (9.97 MB/s) - 'N_197902_extn.png' saved [224912]\n",
      "\n"
     ]
    }
   ],
   "source": [
    "%%bash\n",
    "imgfile='N_197902_extn.png'\n",
    "rm -f $imgfile\n",
    "wget ftp://sidads.colorado.edu/DATASETS/NOAA/G02135/Feb/$imgfile"
   ]
  },
  {
   "cell_type": "markdown",
   "metadata": {
    "ein.tags": [
     "worksheet-0"
    ]
   },
   "source": [
    "<img src='N_197902_extn.png' style='float:left'/>"
   ]
  },
  {
   "cell_type": "markdown",
   "metadata": {
    "ein.tags": [
     "worksheet-0"
    ]
   },
   "source": [
    "We can also obtain an image directly from the internet and display in with Python code:"
   ]
  },
  {
   "cell_type": "code",
   "execution_count": 2,
   "metadata": {
    "autoscroll": "json-false",
    "collapsed": false,
    "ein.tags": [
     "worksheet-0"
    ]
   },
   "outputs": [
    {
     "data": {
      "text/html": [
       "<img src=\"ftp://sidads.colorado.edu/DATASETS/NOAA/G02135/Feb/N_201602_extn.png\"/>"
      ],
      "text/plain": [
       "<IPython.core.display.Image object>"
      ]
     },
     "execution_count": 2,
     "metadata": {},
     "output_type": "execute_result"
    }
   ],
   "source": [
    "from IPython.display import Image\n",
    "Image(url='ftp://sidads.colorado.edu/DATASETS/NOAA/G02135/Feb/N_201602_extn.png')"
   ]
  },
  {
   "cell_type": "markdown",
   "metadata": {
    "ein.tags": [
     "worksheet-0"
    ]
   },
   "source": [
    "The `netCDF4` package provide OpenDAP client capabilities. Here we use it to obtain data via an OpenDAP server at NSIDC:"
   ]
  },
  {
   "cell_type": "code",
   "execution_count": 3,
   "metadata": {
    "autoscroll": "json-false",
    "collapsed": false,
    "ein.tags": [
     "worksheet-0"
    ]
   },
   "outputs": [],
   "source": [
    "import netCDF4\n",
    "url = ('http://opendap.apps.nsidc.org:80/opendap/DATASETS/'\n",
    "       'nsidc0530_MEASURES_nhsnow_daily25/2012/nhtsd25e2_20120101_v01r01.nc'\n",
    ")\n",
    "dataset = netCDF4.Dataset(url)"
   ]
  },
  {
   "cell_type": "markdown",
   "metadata": {
    "ein.tags": [
     "worksheet-0"
    ]
   },
   "source": [
    "### Data inspection\n",
    "\n",
    "We can inspect the `dataset` object to see its class. In this case, it's exactly what we'd expect given that we created it with `netCDF4.Dataset`. However, it's sometimes the case, especially when working with a new library, that we do not anticipate the type of an object returned from some method / function call, so it's handy to be able to find out what it is."
   ]
  },
  {
   "cell_type": "code",
   "execution_count": 4,
   "metadata": {
    "autoscroll": "json-false",
    "collapsed": false,
    "ein.tags": [
     "worksheet-0"
    ]
   },
   "outputs": [
    {
     "data": {
      "text/plain": [
       "netCDF4._netCDF4.Dataset"
      ]
     },
     "execution_count": 4,
     "metadata": {},
     "output_type": "execute_result"
    }
   ],
   "source": [
    "type(dataset)"
   ]
  },
  {
   "cell_type": "markdown",
   "metadata": {
    "ein.tags": [
     "worksheet-0"
    ]
   },
   "source": [
    "Given that we have a `Dataset` object from the `netCDF4` library, we could of course go consult [that library's documentation](https://netcdf4-python.googlecode.com/svn/trunk/docs/netCDF4.Dataset-class.html) to learn what kinds of attributes and methods such an object has. Or, we can bravely plunge in and have a look for ourselves.\n",
    "\n",
    "The most general kind of inspection we can do is to simply ask an object to express itself as a string. In Python, calling `print` on an object gets its string value; in Jupyter, we can simply refer to it by name on the last line of a cell:"
   ]
  },
  {
   "cell_type": "code",
   "execution_count": 5,
   "metadata": {
    "autoscroll": "json-false",
    "collapsed": false,
    "ein.tags": [
     "worksheet-0"
    ]
   },
   "outputs": [
    {
     "data": {
      "text/plain": [
       "<class 'netCDF4._netCDF4.Dataset'>\n",
       "root group (NETCDF3_CLASSIC data model, file format DAP2):\n",
       "    Conventions: CF-1.6\n",
       "    Metadata_Conventions: CF-1.6, Unidata Dataset Discovery v1.0, GDS v2.0\n",
       "    standard_name_vocabulary: CF Standard Name Table (v22, 12 February 2013)\n",
       "    id: nhtsd25e2_20120101_v01r01.nc\n",
       "    naming_authority: gov.nasa.eosdis\n",
       "    reference: http://dx.doi.org/10.5067/MEASURES/CRYOSPHERE/nsidc-0530.001\n",
       "    metadata_link: http://nsidc.org/api/metadata?id=nsidc-0530\n",
       "    title: MEaSUREs Northern Hemisphere Terrestrial Snow Cover Extent Daily 25km EASE-Grid 2.0\n",
       "    product_version: v01r01\n",
       "    summary: This NASA MEaSUREs Earth System Data Record (ESDR) merges daily Northern Hemisphere snow cover extents over land derived from three independently produced sources.  Variables include snow cover extent from the Interactive Multisensor Snow and Ice Mapping System (IMS), a gap-filled snow extent product derived from the Moderate Resolution Imaging Spectroradiometer (MODIS), and a gap-filled snow extent product derived from the Special Sensor Microwave/Imager (SSMI) and Special Sensor Microwave Imager/Sounder (SSMIS).  The NSIDC Land-Ocean-Coast-Ice (LOCI) mask derived from BU-MODIS land cover data is consistently applied to each variable.  Data are in a Northern Hemisphere equal area projection at 25 km resolution, and are contained in netCDF files spanning from January 1, 1999 to December 31, 2012.\n",
       "    keywords: EARTH SCIENCE > CRYOSPHERE > SNOW/ICE > SNOW COVER, EARTH SCIENCE > TERRESTRIAL HYDROSPHERE > SNOW/ICE > SNOW COVER\n",
       "    keywords_vocabulary: NASA Global Change Master Directory (GCMD) Earth Science Keywords, Version 8.0\n",
       "    platform: NOAA POES (Polar Orbiting Environmental Satellites), DMSP (Defense Meteorological Satellite Program), GOES (Geostationary Operational Environmental Satellite), METEOSAT, GMS (Japan Geostationary Meteorological Satellite), METOP, TERRA > Earth Observing System TERRA (AM-1), AQUA > Earth Observing System AQUA\n",
       "    sensor: VISSR > Visible and Infrared Spin Scan Radiometer, VAS > VISSR Atmospheric Sounder, MODIS > Moderate-Resolution Imaging Spectroradiometer, AMSU-B > Advanced Microwave Sounding Unit-B, AMSR-E > Advanced Microwave Scanning Radiometer-EOS, SSMI > Special Sensor Microwave/Imager, SSMIS > Special Sensor Microwave Imager/Sounder, VIIRS > Visible-Infrared Imager-Radiometer Suite\n",
       "    cdm_data_type: Grid\n",
       "    source: ftp://sidads.colorado.edu/pub/DATASETS/NOAA/G02156/24km/, ftp://sidads.colorado.edu/pub/DATASETS/nsidc0001_polar_stereo_tbs/, ftp://n5eil01u.ecs.nsidc.org/SAN/MOST/MOD10C1.005/\n",
       "    date_created: 2015-06-10T02:58:06Z\n",
       "    institution: Center for Environmental Prediction, Rutgers University\n",
       "    geospatial_lat_units: degrees_north\n",
       "    geospatial_lon_units: degrees_east\n",
       "    geospatial_lat_min: 0\n",
       "    geospatial_lat_max: 90\n",
       "    geospatial_lon_min: -180\n",
       "    geospatial_lon_max: 180\n",
       "    spatial_resolution: 25 km\n",
       "    license: No restrictions on access or use\n",
       "    DODS_EXTRA.Unlimited_Dimension: time\n",
       "    dimensions(sizes): time(1), cols(720), maxStrlen64(64), rows(720)\n",
       "    variables(dimensions): int32 \u001b[4mtime\u001b[0m(time), int32 \u001b[4mrows\u001b[0m(rows), int32 \u001b[4mcols\u001b[0m(cols), |S1 \u001b[4mcoord_system\u001b[0m(maxStrlen64), float32 \u001b[4mlatitude\u001b[0m(rows,cols), float32 \u001b[4mlongitude\u001b[0m(rows,cols), int16 \u001b[4mmerged_snow_cover_extent\u001b[0m(time,rows,cols), int16 \u001b[4mims_snow_cover_extent\u001b[0m(time,rows,cols), int16 \u001b[4mpassive_microwave_gap_filled_snow_cover_extent\u001b[0m(time,rows,cols), int16 \u001b[4mmodis_cloud_gap_filled_snow_cover_extent\u001b[0m(time,rows,cols)\n",
       "    groups: "
      ]
     },
     "execution_count": 5,
     "metadata": {},
     "output_type": "execute_result"
    }
   ],
   "source": [
    "dataset"
   ]
  },
  {
   "cell_type": "markdown",
   "metadata": {
    "ein.tags": [
     "worksheet-0"
    ]
   },
   "source": [
    "In this case, we get lots of useful information. Not all Python objects are so helpful.\n",
    "\n",
    "Well-written Python code includes so-called _docstrings_, which we can access via the built-in `help` command:"
   ]
  },
  {
   "cell_type": "code",
   "execution_count": 6,
   "metadata": {
    "autoscroll": "json-false",
    "collapsed": false,
    "ein.tags": [
     "worksheet-0"
    ]
   },
   "outputs": [
    {
     "name": "stdout",
     "output_type": "stream",
     "text": [
      "Help on Dataset object:\n",
      "\n",
      "class Dataset(builtins.object)\n",
      " |  A netCDF `netCDF4.Dataset` is a collection of dimensions, groups, variables and\n",
      " |  attributes. Together they describe the meaning of data and relations among\n",
      " |  data fields stored in a netCDF file. See `netCDF4.Dataset.__init__` for more\n",
      " |  details.\n",
      " |  \n",
      " |  A list of attribute names corresponding to global netCDF attributes\n",
      " |  defined for the `netCDF4.Dataset` can be obtained with the\n",
      " |  `netCDF4.Dataset.ncattrs` method.\n",
      " |  These attributes can be created by assigning to an attribute of the\n",
      " |  `netCDF4.Dataset` instance. A dictionary containing all the netCDF attribute\n",
      " |  name/value pairs is provided by the `__dict__` attribute of a\n",
      " |  `netCDF4.Dataset` instance.\n",
      " |  \n",
      " |  The following class variables are read-only and should not be\n",
      " |  modified by the user.\n",
      " |  \n",
      " |  **`dimensions`**: The `dimensions` dictionary maps the names of\n",
      " |  dimensions defined for the `netCDF4.Group` or `netCDF4.Dataset` to instances of the\n",
      " |  `netCDF4.Dimension` class.\n",
      " |  \n",
      " |  **`variables`**: The `variables` dictionary maps the names of variables\n",
      " |  defined for this `netCDF4.Dataset` or `netCDF4.Group` to instances of the \n",
      " |  `netCDF4.Variable` class.\n",
      " |  \n",
      " |  **`groups`**: The groups dictionary maps the names of groups created for\n",
      " |  this `netCDF4.Dataset` or `netCDF4.Group` to instances of the `netCDF4.Group` class (the\n",
      " |  `netCDF4.Dataset` class is simply a special case of the `netCDF4.Group` class which\n",
      " |  describes the root group in the netCDF4 file).\n",
      " |  \n",
      " |  **`cmptypes`**: The `cmptypes` dictionary maps the names of\n",
      " |  compound types defined for the `netCDF4.Group` or `netCDF4.Dataset` to instances of the\n",
      " |  `netCDF4.CompoundType` class.\n",
      " |  \n",
      " |  **`vltypes`**: The `vltypes` dictionary maps the names of\n",
      " |  variable-length types defined for the `netCDF4.Group` or `netCDF4.Dataset` to instances \n",
      " |  of the `netCDF4.VLType` class.\n",
      " |  \n",
      " |  **`enumtypes`**: The `enumtypes` dictionary maps the names of\n",
      " |  Enum types defined for the `netCDF4.Group` or `netCDF4.Dataset` to instances \n",
      " |  of the `netCDF4.EnumType` class.\n",
      " |  \n",
      " |  **`data_model`**: `data_model` describes the netCDF\n",
      " |  data model version, one of `NETCDF3_CLASSIC`, `NETCDF4`,\n",
      " |  `NETCDF4_CLASSIC`, `NETCDF3_64BIT_OFFSET` or `NETCDF3_64BIT_DATA`.\n",
      " |  \n",
      " |  **`file_format`**: same as `data_model`, retained for backwards compatibility.\n",
      " |  \n",
      " |  **`disk_format`**: `disk_format` describes the underlying\n",
      " |  file format, one of `NETCDF3`, `HDF5`, `HDF4`,\n",
      " |  `PNETCDF`, `DAP2`, `DAP4` or `UNDEFINED`. Only available if using\n",
      " |  netcdf C library version >= 4.3.1, otherwise will always return\n",
      " |  `UNDEFINED`.\n",
      " |  \n",
      " |  **`parent`**: `parent` is a reference to the parent\n",
      " |  `netCDF4.Group` instance. `None` for the root group or `netCDF4.Dataset`\n",
      " |  instance.\n",
      " |  \n",
      " |  **`path`**: `path` shows the location of the `netCDF4.Group` in\n",
      " |  the `netCDF4.Dataset` in a unix directory format (the names of groups in the\n",
      " |  hierarchy separated by backslashes). A `netCDF4.Dataset` instance is the root\n",
      " |  group, so the path is simply `'/'`.\n",
      " |  \n",
      " |  **`keepweakref`**: If `True`, child Dimension and Variables objects only keep weak \n",
      " |  references to the parent Dataset or Group.\n",
      " |  \n",
      " |  Methods defined here:\n",
      " |  \n",
      " |  __delattr__(self, name, /)\n",
      " |      Implement delattr(self, name).\n",
      " |  \n",
      " |  __enter__(...)\n",
      " |  \n",
      " |  __exit__(...)\n",
      " |  \n",
      " |  __getattr__(...)\n",
      " |  \n",
      " |  __getattribute__(self, name, /)\n",
      " |      Return getattr(self, name).\n",
      " |  \n",
      " |  __getitem__(self, key, /)\n",
      " |      Return self[key].\n",
      " |  \n",
      " |  __init__(...)\n",
      " |      **`__init__(self, filename, mode=\"r\", clobber=True, diskless=False,\n",
      " |      persist=False, weakref=False, format='NETCDF4')`**\n",
      " |      \n",
      " |      `netCDF4.Dataset` constructor.\n",
      " |      \n",
      " |      **`filename`**: Name of netCDF file to hold dataset. Can also\n",
      " |      be a python 3 pathlib instance or the URL of an OpenDAP dataset.\n",
      " |      \n",
      " |      **`mode`**: access mode. `r` means read-only; no data can be\n",
      " |      modified. `w` means write; a new file is created, an existing file with\n",
      " |      the same name is deleted. `a` and `r+` mean append (in analogy with\n",
      " |      serial files); an existing file is opened for reading and writing.\n",
      " |      Appending `s` to modes `w`, `r+` or `a` will enable unbuffered shared\n",
      " |      access to `NETCDF3_CLASSIC`, `NETCDF3_64BIT_OFFSET` or\n",
      " |      `NETCDF3_64BIT_DATA` formatted files.\n",
      " |      Unbuffered acesss may be useful even if you don't need shared\n",
      " |      access, since it may be faster for programs that don't access data\n",
      " |      sequentially. This option is ignored for `NETCDF4` and `NETCDF4_CLASSIC`\n",
      " |      formatted files.\n",
      " |      \n",
      " |      **`clobber`**: if `True` (default), opening a file with `mode='w'`\n",
      " |      will clobber an existing file with the same name.  if `False`, an\n",
      " |      exception will be raised if a file with the same name already exists.\n",
      " |      \n",
      " |      **`format`**: underlying file format (one of `'NETCDF4',\n",
      " |      'NETCDF4_CLASSIC', 'NETCDF3_CLASSIC'`, `'NETCDF3_64BIT_OFFSET'` or\n",
      " |      `'NETCDF3_64BIT_DATA'`.\n",
      " |      Only relevant if `mode = 'w'` (if `mode = 'r','a'` or `'r+'` the file format\n",
      " |      is automatically detected). Default `'NETCDF4'`, which means the data is\n",
      " |      stored in an HDF5 file, using netCDF 4 API features.  Setting\n",
      " |      `format='NETCDF4_CLASSIC'` will create an HDF5 file, using only netCDF 3\n",
      " |      compatibile API features. netCDF 3 clients must be recompiled and linked\n",
      " |      against the netCDF 4 library to read files in `NETCDF4_CLASSIC` format.\n",
      " |      `'NETCDF3_CLASSIC'` is the classic netCDF 3 file format that does not\n",
      " |      handle 2+ Gb files. `'NETCDF3_64BIT_OFFSET'` is the 64-bit offset\n",
      " |      version of the netCDF 3 file format, which fully supports 2+ GB files, but\n",
      " |      is only compatible with clients linked against netCDF version 3.6.0 or\n",
      " |      later. `'NETCDF3_64BIT_DATA'` is the 64-bit data version of the netCDF 3\n",
      " |      file format, which supports 64-bit dimension sizes plus unsigned and\n",
      " |      64 bit integer data types, but is only compatible with clients linked against\n",
      " |      netCDF version 4.4.0 or later.\n",
      " |      \n",
      " |      **`diskless`**: If `True`, create diskless (in memory) file.  \n",
      " |      This is an experimental feature added to the C library after the\n",
      " |      netcdf-4.2 release.\n",
      " |      \n",
      " |      **`persist`**: if `diskless=True`, persist file to disk when closed\n",
      " |      (default `False`).\n",
      " |      \n",
      " |      **`keepweakref`**: if `True`, child Dimension and Variable instances will keep weak\n",
      " |      references to the parent Dataset or Group object.  Default is `False`, which\n",
      " |      means strong references will be kept.  Having Dimension and Variable instances\n",
      " |      keep a strong reference to the parent Dataset instance, which in turn keeps a\n",
      " |      reference to child Dimension and Variable instances, creates circular references.\n",
      " |      Circular references complicate garbage collection, which may mean increased\n",
      " |      memory usage for programs that create may Dataset instances with lots of\n",
      " |      Variables.  Setting `keepweakref=True` allows Dataset instances to be\n",
      " |      garbage collected as soon as they go out of scope, potential reducing memory\n",
      " |      usage.  However, in most cases this is not desirable, since the associated\n",
      " |      Variable instances may still be needed, but are rendered unusable when the\n",
      " |      parent Dataset instance is garbage collected.\n",
      " |  \n",
      " |  __new__(*args, **kwargs) from builtins.type\n",
      " |      Create and return a new object.  See help(type) for accurate signature.\n",
      " |  \n",
      " |  __repr__(self, /)\n",
      " |      Return repr(self).\n",
      " |  \n",
      " |  __setattr__(self, name, value, /)\n",
      " |      Implement setattr(self, name, value).\n",
      " |  \n",
      " |  __unicode__(...)\n",
      " |  \n",
      " |  close(...)\n",
      " |      **`close(self)`**\n",
      " |      \n",
      " |      Close the Dataset.\n",
      " |  \n",
      " |  createCompoundType(...)\n",
      " |      **`createCompoundType(self, datatype, datatype_name)`**\n",
      " |      \n",
      " |      Creates a new compound data type named `datatype_name` from the numpy\n",
      " |      dtype object `datatype`.\n",
      " |      \n",
      " |      ***Note***: If the new compound data type contains other compound data types\n",
      " |      (i.e. it is a 'nested' compound type, where not all of the elements\n",
      " |      are homogeneous numeric data types), then the 'inner' compound types **must** be\n",
      " |      created first.\n",
      " |      \n",
      " |      The return value is the `netCDF4.CompoundType` class instance describing the new\n",
      " |      datatype.\n",
      " |  \n",
      " |  createDimension(...)\n",
      " |      **`createDimension(self, dimname, size=None)`**\n",
      " |      \n",
      " |      Creates a new dimension with the given `dimname` and `size`.\n",
      " |      \n",
      " |      `size` must be a positive integer or `None`, which stands for\n",
      " |      \"unlimited\" (default is `None`). Specifying a size of 0 also\n",
      " |      results in an unlimited dimension. The return value is the `netCDF4.Dimension`\n",
      " |      class instance describing the new dimension.  To determine the current\n",
      " |      maximum size of the dimension, use the `len` function on the `netCDF4.Dimension`\n",
      " |      instance. To determine if a dimension is 'unlimited', use the\n",
      " |      `netCDF4.Dimension.isunlimited` method of the `netCDF4.Dimension` instance.\n",
      " |  \n",
      " |  createEnumType(...)\n",
      " |      **`createEnumType(self, datatype, datatype_name, enum_dict)`**\n",
      " |      \n",
      " |      Creates a new Enum data type named `datatype_name` from a numpy\n",
      " |      integer dtype object `datatype`, and a python dictionary\n",
      " |      defining the enum fields and values.\n",
      " |      \n",
      " |      The return value is the `netCDF4.EnumType` class instance describing the new\n",
      " |      datatype.\n",
      " |  \n",
      " |  createGroup(...)\n",
      " |      **`createGroup(self, groupname)`**\n",
      " |      \n",
      " |      Creates a new `netCDF4.Group` with the given `groupname`.\n",
      " |      \n",
      " |      If `groupname` is specified as a path, using forward slashes as in unix to\n",
      " |      separate components, then intermediate groups will be created as necessary \n",
      " |      (analagous to `mkdir -p` in unix).  For example,\n",
      " |      `createGroup('/GroupA/GroupB/GroupC')` will create `GroupA`,\n",
      " |      `GroupA/GroupB`, and `GroupA/GroupB/GroupC`, if they don't already exist.\n",
      " |      If the specified path describes a group that already exists, no error is\n",
      " |      raised.\n",
      " |      \n",
      " |      The return value is a `netCDF4.Group` class instance.\n",
      " |  \n",
      " |  createVLType(...)\n",
      " |      **`createVLType(self, datatype, datatype_name)`**\n",
      " |      \n",
      " |      Creates a new VLEN data type named `datatype_name` from a numpy\n",
      " |      dtype object `datatype`.\n",
      " |      \n",
      " |      The return value is the `netCDF4.VLType` class instance describing the new\n",
      " |      datatype.\n",
      " |  \n",
      " |  createVariable(...)\n",
      " |      **`createVariable(self, varname, datatype, dimensions=(), zlib=False,\n",
      " |      complevel=4, shuffle=True, fletcher32=False, contiguous=False, chunksizes=None,\n",
      " |      endian='native', least_significant_digit=None, fill_value=None)`**\n",
      " |      \n",
      " |      Creates a new variable with the given `varname`, `datatype`, and\n",
      " |      `dimensions`. If dimensions are not given, the variable is assumed to be\n",
      " |      a scalar.\n",
      " |      \n",
      " |      If `varname` is specified as a path, using forward slashes as in unix to\n",
      " |      separate components, then intermediate groups will be created as necessary \n",
      " |      For example, `createVariable('/GroupA/GroupB/VarC'),('x','y'),float)` will create groups `GroupA`\n",
      " |      and `GroupA/GroupB`, plus the variable `GroupA/GroupB/VarC`, if the preceding\n",
      " |      groups don't already exist.\n",
      " |      \n",
      " |      The `datatype` can be a numpy datatype object, or a string that describes\n",
      " |      a numpy dtype object (like the `dtype.str` attribue of a numpy array).\n",
      " |      Supported specifiers include: `'S1' or 'c' (NC_CHAR), 'i1' or 'b' or 'B'\n",
      " |      (NC_BYTE), 'u1' (NC_UBYTE), 'i2' or 'h' or 's' (NC_SHORT), 'u2'\n",
      " |      (NC_USHORT), 'i4' or 'i' or 'l' (NC_INT), 'u4' (NC_UINT), 'i8' (NC_INT64),\n",
      " |      'u8' (NC_UINT64), 'f4' or 'f' (NC_FLOAT), 'f8' or 'd' (NC_DOUBLE)`.\n",
      " |      `datatype` can also be a `netCDF4.CompoundType` instance\n",
      " |      (for a structured, or compound array), a `netCDF4.VLType` instance\n",
      " |      (for a variable-length array), or the python `str` builtin\n",
      " |      (for a variable-length string array). Numpy string and unicode datatypes with\n",
      " |      length greater than one are aliases for `str`.\n",
      " |      \n",
      " |      Data from netCDF variables is presented to python as numpy arrays with\n",
      " |      the corresponding data type.\n",
      " |      \n",
      " |      `dimensions` must be a tuple containing dimension names (strings) that\n",
      " |      have been defined previously using `netCDF4.Dataset.createDimension`. The default value\n",
      " |      is an empty tuple, which means the variable is a scalar.\n",
      " |      \n",
      " |      If the optional keyword `zlib` is `True`, the data will be compressed in\n",
      " |      the netCDF file using gzip compression (default `False`).\n",
      " |      \n",
      " |      The optional keyword `complevel` is an integer between 1 and 9 describing\n",
      " |      the level of compression desired (default 4). Ignored if `zlib=False`.\n",
      " |      \n",
      " |      If the optional keyword `shuffle` is `True`, the HDF5 shuffle filter\n",
      " |      will be applied before compressing the data (default `True`).  This\n",
      " |      significantly improves compression. Default is `True`. Ignored if\n",
      " |      `zlib=False`.\n",
      " |      \n",
      " |      If the optional keyword `fletcher32` is `True`, the Fletcher32 HDF5\n",
      " |      checksum algorithm is activated to detect errors. Default `False`.\n",
      " |      \n",
      " |      If the optional keyword `contiguous` is `True`, the variable data is\n",
      " |      stored contiguously on disk.  Default `False`. Setting to `True` for\n",
      " |      a variable with an unlimited dimension will trigger an error.\n",
      " |      \n",
      " |      The optional keyword `chunksizes` can be used to manually specify the\n",
      " |      HDF5 chunksizes for each dimension of the variable. A detailed\n",
      " |      discussion of HDF chunking and I/O performance is available\n",
      " |      [here](http://www.hdfgroup.org/HDF5/doc/H5.user/Chunking.html).\n",
      " |      Basically, you want the chunk size for each dimension to match as\n",
      " |      closely as possible the size of the data block that users will read\n",
      " |      from the file.  `chunksizes` cannot be set if `contiguous=True`.\n",
      " |      \n",
      " |      The optional keyword `endian` can be used to control whether the\n",
      " |      data is stored in little or big endian format on disk. Possible\n",
      " |      values are `little, big` or `native` (default). The library\n",
      " |      will automatically handle endian conversions when the data is read,\n",
      " |      but if the data is always going to be read on a computer with the\n",
      " |      opposite format as the one used to create the file, there may be\n",
      " |      some performance advantage to be gained by setting the endian-ness.\n",
      " |      \n",
      " |      The `zlib, complevel, shuffle, fletcher32, contiguous, chunksizes` and `endian`\n",
      " |      keywords are silently ignored for netCDF 3 files that do not use HDF5.\n",
      " |      \n",
      " |      The optional keyword `fill_value` can be used to override the default\n",
      " |      netCDF `_FillValue` (the value that the variable gets filled with before\n",
      " |      any data is written to it, defaults given in `netCDF4.default_fillvals`).\n",
      " |      If fill_value is set to `False`, then the variable is not pre-filled.\n",
      " |      \n",
      " |      If the optional keyword parameter `least_significant_digit` is\n",
      " |      specified, variable data will be truncated (quantized). In conjunction\n",
      " |      with `zlib=True` this produces 'lossy', but significantly more\n",
      " |      efficient compression. For example, if `least_significant_digit=1`,\n",
      " |      data will be quantized using `numpy.around(scale*data)/scale`, where\n",
      " |      scale = 2**bits, and bits is determined so that a precision of 0.1 is\n",
      " |      retained (in this case bits=4). From the \n",
      " |      [PSD metadata conventions](http://www.esrl.noaa.gov/psd/data/gridded/conventions/cdc_netcdf_standard.shtml):\n",
      " |      \"least_significant_digit -- power of ten of the smallest decimal place\n",
      " |      in unpacked data that is a reliable value.\" Default is `None`, or no\n",
      " |      quantization, or 'lossless' compression.\n",
      " |      \n",
      " |      When creating variables in a `NETCDF4` or `NETCDF4_CLASSIC` formatted file,\n",
      " |      HDF5 creates something called a 'chunk cache' for each variable.  The\n",
      " |      default size of the chunk cache may be large enough to completely fill\n",
      " |      available memory when creating thousands of variables.  The optional\n",
      " |      keyword `chunk_cache` allows you to reduce (or increase) the size of\n",
      " |      the default chunk cache when creating a variable.  The setting only\n",
      " |      persists as long as the Dataset is open - you can use the set_var_chunk_cache\n",
      " |      method to change it the next time the Dataset is opened.\n",
      " |      Warning - messing with this parameter can seriously degrade performance.\n",
      " |      \n",
      " |      The return value is the `netCDF4.Variable` class instance describing the new\n",
      " |      variable.\n",
      " |      \n",
      " |      A list of names corresponding to netCDF variable attributes can be\n",
      " |      obtained with the `netCDF4.Variable` method `netCDF4.Variable.ncattrs`. A dictionary\n",
      " |      containing all the netCDF attribute name/value pairs is provided by\n",
      " |      the `__dict__` attribute of a `netCDF4.Variable` instance.\n",
      " |      \n",
      " |      `netCDF4.Variable` instances behave much like array objects. Data can be\n",
      " |      assigned to or retrieved from a variable with indexing and slicing\n",
      " |      operations on the `netCDF4.Variable` instance. A `netCDF4.Variable` instance has six\n",
      " |      Dataset standard attributes: `dimensions, dtype, shape, ndim, name` and\n",
      " |      `least_significant_digit`. Application programs should never modify\n",
      " |      these attributes. The `dimensions` attribute is a tuple containing the\n",
      " |      names of the dimensions associated with this variable. The `dtype`\n",
      " |      attribute is a string describing the variable's data type (`i4, f8,\n",
      " |      S1,` etc). The `shape` attribute is a tuple describing the current\n",
      " |      sizes of all the variable's dimensions. The `name` attribute is a\n",
      " |      string containing the name of the Variable instance.\n",
      " |      The `least_significant_digit`\n",
      " |      attributes describes the power of ten of the smallest decimal place in\n",
      " |      the data the contains a reliable value.  assigned to the `netCDF4.Variable`\n",
      " |      instance. If `None`, the data is not truncated. The `ndim` attribute\n",
      " |      is the number of variable dimensions.\n",
      " |  \n",
      " |  delncattr(...)\n",
      " |      **`delncattr(self,name,value)`**\n",
      " |      \n",
      " |      delete a netCDF dataset or group attribute.  Use if you need to delete a\n",
      " |      netCDF attribute with the same name as one of the reserved python\n",
      " |      attributes.\n",
      " |  \n",
      " |  filepath(...)\n",
      " |      **`filepath(self)`**\n",
      " |      \n",
      " |      Get the file system path (or the opendap URL) which was used to\n",
      " |      open/create the Dataset. Requires netcdf >= 4.1.2\n",
      " |  \n",
      " |  get_variables_by_attributes(...)\n",
      " |      **`get_variables_by_attribute(self, **kwargs)`**\n",
      " |      \n",
      " |      Returns a list of variables that match specific conditions.\n",
      " |      \n",
      " |      Can pass in key=value parameters and variables are returned that\n",
      " |      contain all of the matches. For example, \n",
      " |      \n",
      " |          :::python\n",
      " |          >>> # Get variables with x-axis attribute.\n",
      " |          >>> vs = nc.get_variables_by_attributes(axis='X')\n",
      " |          >>> # Get variables with matching \"standard_name\" attribute\n",
      " |          >>> vs = nc.get_variables_by_attributes(standard_name='northward_sea_water_velocity')\n",
      " |      \n",
      " |      Can pass in key=callable parameter and variables are returned if the\n",
      " |      callable returns True.  The callable should accept a single parameter,\n",
      " |      the attribute value.  None is given as the attribute value when the\n",
      " |      attribute does not exist on the variable. For example,\n",
      " |      \n",
      " |          :::python\n",
      " |          >>> # Get Axis variables\n",
      " |          >>> vs = nc.get_variables_by_attributes(axis=lambda v: v in ['X', 'Y', 'Z', 'T'])\n",
      " |          >>> # Get variables that don't have an \"axis\" attribute\n",
      " |          >>> vs = nc.get_variables_by_attributes(axis=lambda v: v is None)\n",
      " |          >>> # Get variables that have a \"grid_mapping\" attribute\n",
      " |          >>> vs = nc.get_variables_by_attributes(grid_mapping=lambda v: v is not None)\n",
      " |  \n",
      " |  getncattr(...)\n",
      " |      **`getncattr(self,name)`**\n",
      " |      \n",
      " |      retrievel a netCDF dataset or group attribute.\n",
      " |      Use if you need to get a netCDF attribute with the same \n",
      " |      name as one of the reserved python attributes.\n",
      " |  \n",
      " |  isopen(...)\n",
      " |      **`close(self)`**\n",
      " |      \n",
      " |      is the Dataset open or closed?\n",
      " |  \n",
      " |  ncattrs(...)\n",
      " |      **`ncattrs(self)`**\n",
      " |      \n",
      " |      return netCDF global attribute names for this `netCDF4.Dataset` or `netCDF4.Group` in a list.\n",
      " |  \n",
      " |  renameAttribute(...)\n",
      " |      **`renameAttribute(self, oldname, newname)`**\n",
      " |      \n",
      " |      rename a `netCDF4.Dataset` or `netCDF4.Group` attribute named `oldname` to `newname`.\n",
      " |  \n",
      " |  renameDimension(...)\n",
      " |      **`renameDimension(self, oldname, newname)`**\n",
      " |      \n",
      " |      rename a `netCDF4.Dimension` named `oldname` to `newname`.\n",
      " |  \n",
      " |  renameGroup(...)\n",
      " |      **`renameGroup(self, oldname, newname)`**\n",
      " |      \n",
      " |      rename a `netCDF4.Group` named `oldname` to `newname` (requires netcdf >= 4.3.1).\n",
      " |  \n",
      " |  renameVariable(...)\n",
      " |      **`renameVariable(self, oldname, newname)`**\n",
      " |      \n",
      " |      rename a `netCDF4.Variable` named `oldname` to `newname`\n",
      " |  \n",
      " |  set_auto_mask(...)\n",
      " |      **`set_auto_mask(self, True_or_False)`**\n",
      " |      \n",
      " |      Call `netCDF4.Variable.set_auto_mask` for all variables contained in this `netCDF4.Dataset` or\n",
      " |      `netCDF4.Group`, as well as for all variables in all its subgroups.\n",
      " |      \n",
      " |      **`True_or_False`**: Boolean determining if automatic conversion to masked arrays\n",
      " |      shall be applied for all variables.\n",
      " |      \n",
      " |      ***Note***: Calling this function only affects existing variables. Variables created\n",
      " |      after calling this function will follow the default behaviour.\n",
      " |  \n",
      " |  set_auto_maskandscale(...)\n",
      " |      **`set_auto_maskandscale(self, True_or_False)`**\n",
      " |      \n",
      " |      Call `netCDF4.Variable.set_auto_maskandscale` for all variables contained in this `netCDF4.Dataset` or\n",
      " |      `netCDF4.Group`, as well as for all variables in all its subgroups.\n",
      " |      \n",
      " |      **`True_or_False`**: Boolean determining if automatic conversion to masked arrays\n",
      " |      and variable scaling shall be applied for all variables.\n",
      " |      \n",
      " |      ***Note***: Calling this function only affects existing variables. Variables created\n",
      " |      after calling this function will follow the default behaviour.\n",
      " |  \n",
      " |  set_auto_scale(...)\n",
      " |      **`set_auto_scale(self, True_or_False)`**\n",
      " |      \n",
      " |      Call `netCDF4.Variable.set_auto_scale` for all variables contained in this `netCDF4.Dataset` or\n",
      " |      `netCDF4.Group`, as well as for all variables in all its subgroups.\n",
      " |      \n",
      " |      **`True_or_False`**: Boolean determining if automatic variable scaling\n",
      " |      shall be applied for all variables.\n",
      " |      \n",
      " |      ***Note***: Calling this function only affects existing variables. Variables created\n",
      " |      after calling this function will follow the default behaviour.\n",
      " |  \n",
      " |  set_fill_off(...)\n",
      " |      **`set_fill_off(self)`**\n",
      " |      \n",
      " |      Sets the fill mode for a `netCDF4.Dataset` open for writing to `off`.\n",
      " |      \n",
      " |      This will prevent the data from being pre-filled with fill values, which\n",
      " |      may result in some performance improvements. However, you must then make\n",
      " |      sure the data is actually written before being read.\n",
      " |  \n",
      " |  set_fill_on(...)\n",
      " |      **`set_fill_on(self)`**\n",
      " |      \n",
      " |      Sets the fill mode for a `netCDF4.Dataset` open for writing to `on`.\n",
      " |      \n",
      " |      This causes data to be pre-filled with fill values. The fill values can be\n",
      " |      controlled by the variable's `_Fill_Value` attribute, but is usually\n",
      " |      sufficient to the use the netCDF default `_Fill_Value` (defined\n",
      " |      separately for each variable type). The default behavior of the netCDF\n",
      " |      library correspongs to `set_fill_on`.  Data which are equal to the\n",
      " |      `_Fill_Value` indicate that the variable was created, but never written\n",
      " |      to.\n",
      " |  \n",
      " |  setncattr(...)\n",
      " |      **`setncattr(self,name,value)`**\n",
      " |      \n",
      " |      set a netCDF dataset or group attribute using name,value pair.\n",
      " |      Use if you need to set a netCDF attribute with the\n",
      " |      with the same name as one of the reserved python attributes.\n",
      " |  \n",
      " |  setncatts(...)\n",
      " |      **`setncatts(self,attdict)`**\n",
      " |      \n",
      " |      set a bunch of netCDF dataset or group attributes at once using a python dictionary.\n",
      " |      This may be faster when setting a lot of attributes for a `NETCDF3`\n",
      " |      formatted file, since nc_redef/nc_enddef is not called in between setting\n",
      " |      each attribute\n",
      " |  \n",
      " |  sync(...)\n",
      " |      **`sync(self)`**\n",
      " |      \n",
      " |      Writes all buffered data in the `netCDF4.Dataset` to the disk file.\n",
      " |  \n",
      " |  ----------------------------------------------------------------------\n",
      " |  Data descriptors defined here:\n",
      " |  \n",
      " |  __orthogonal_indexing__\n",
      " |  \n",
      " |  cmptypes\n",
      " |  \n",
      " |  data_model\n",
      " |  \n",
      " |  dimensions\n",
      " |  \n",
      " |  disk_format\n",
      " |  \n",
      " |  enumtypes\n",
      " |  \n",
      " |  file_format\n",
      " |  \n",
      " |  groups\n",
      " |  \n",
      " |  keepweakref\n",
      " |  \n",
      " |  parent\n",
      " |  \n",
      " |  path\n",
      " |  \n",
      " |  variables\n",
      " |  \n",
      " |  vltypes\n",
      "\n"
     ]
    }
   ],
   "source": [
    "help(dataset)"
   ]
  },
  {
   "cell_type": "markdown",
   "metadata": {
    "ein.tags": [
     "worksheet-0"
    ]
   },
   "source": [
    "In this case, we get extensive -- and quite helpful -- information on the `Dataset` object.\n",
    "\n",
    "We can also use Python's built-in `dir` command to get a list of object members. This mechanism can be helpful even in cases where docstrings are unavailable."
   ]
  },
  {
   "cell_type": "code",
   "execution_count": 7,
   "metadata": {
    "autoscroll": "json-false",
    "collapsed": false,
    "ein.tags": [
     "worksheet-0"
    ]
   },
   "outputs": [
    {
     "data": {
      "text/plain": [
       "['Conventions',\n",
       " 'DODS_EXTRA.Unlimited_Dimension',\n",
       " 'Metadata_Conventions',\n",
       " '__class__',\n",
       " '__delattr__',\n",
       " '__dir__',\n",
       " '__doc__',\n",
       " '__enter__',\n",
       " '__eq__',\n",
       " '__exit__',\n",
       " '__format__',\n",
       " '__ge__',\n",
       " '__getattr__',\n",
       " '__getattribute__',\n",
       " '__getitem__',\n",
       " '__gt__',\n",
       " '__hash__',\n",
       " '__init__',\n",
       " '__le__',\n",
       " '__lt__',\n",
       " '__ne__',\n",
       " '__new__',\n",
       " '__orthogonal_indexing__',\n",
       " '__reduce__',\n",
       " '__reduce_ex__',\n",
       " '__repr__',\n",
       " '__setattr__',\n",
       " '__sizeof__',\n",
       " '__str__',\n",
       " '__subclasshook__',\n",
       " '__unicode__',\n",
       " '_enddef',\n",
       " '_grpid',\n",
       " '_isopen',\n",
       " '_redef',\n",
       " 'cdm_data_type',\n",
       " 'close',\n",
       " 'cmptypes',\n",
       " 'createCompoundType',\n",
       " 'createDimension',\n",
       " 'createEnumType',\n",
       " 'createGroup',\n",
       " 'createVLType',\n",
       " 'createVariable',\n",
       " 'data_model',\n",
       " 'date_created',\n",
       " 'delncattr',\n",
       " 'dimensions',\n",
       " 'disk_format',\n",
       " 'enumtypes',\n",
       " 'file_format',\n",
       " 'filepath',\n",
       " 'geospatial_lat_max',\n",
       " 'geospatial_lat_min',\n",
       " 'geospatial_lat_units',\n",
       " 'geospatial_lon_max',\n",
       " 'geospatial_lon_min',\n",
       " 'geospatial_lon_units',\n",
       " 'get_variables_by_attributes',\n",
       " 'getncattr',\n",
       " 'groups',\n",
       " 'id',\n",
       " 'institution',\n",
       " 'isopen',\n",
       " 'keepweakref',\n",
       " 'keywords',\n",
       " 'keywords_vocabulary',\n",
       " 'license',\n",
       " 'metadata_link',\n",
       " 'naming_authority',\n",
       " 'ncattrs',\n",
       " 'parent',\n",
       " 'path',\n",
       " 'platform',\n",
       " 'product_version',\n",
       " 'reference',\n",
       " 'renameAttribute',\n",
       " 'renameDimension',\n",
       " 'renameGroup',\n",
       " 'renameVariable',\n",
       " 'sensor',\n",
       " 'set_auto_mask',\n",
       " 'set_auto_maskandscale',\n",
       " 'set_auto_scale',\n",
       " 'set_fill_off',\n",
       " 'set_fill_on',\n",
       " 'setncattr',\n",
       " 'setncatts',\n",
       " 'source',\n",
       " 'spatial_resolution',\n",
       " 'standard_name_vocabulary',\n",
       " 'summary',\n",
       " 'sync',\n",
       " 'title',\n",
       " 'variables',\n",
       " 'vltypes']"
      ]
     },
     "execution_count": 7,
     "metadata": {},
     "output_type": "execute_result"
    }
   ],
   "source": [
    "dir(dataset)"
   ]
  },
  {
   "cell_type": "markdown",
   "metadata": {
    "ein.tags": [
     "worksheet-0"
    ]
   },
   "source": [
    "Unfortunately, this list includes attributes and/or methods, not intended for end-users like us. The convention in Python is to name \"private\" attributes/methods with one or more leading underscores. Here, we filter out those members:"
   ]
  },
  {
   "cell_type": "code",
   "execution_count": 8,
   "metadata": {
    "autoscroll": "json-false",
    "collapsed": false,
    "ein.tags": [
     "worksheet-0"
    ]
   },
   "outputs": [
    {
     "data": {
      "text/plain": [
       "['Conventions',\n",
       " 'DODS_EXTRA.Unlimited_Dimension',\n",
       " 'Metadata_Conventions',\n",
       " 'cdm_data_type',\n",
       " 'close',\n",
       " 'cmptypes',\n",
       " 'createCompoundType',\n",
       " 'createDimension',\n",
       " 'createEnumType',\n",
       " 'createGroup',\n",
       " 'createVLType',\n",
       " 'createVariable',\n",
       " 'data_model',\n",
       " 'date_created',\n",
       " 'delncattr',\n",
       " 'dimensions',\n",
       " 'disk_format',\n",
       " 'enumtypes',\n",
       " 'file_format',\n",
       " 'filepath',\n",
       " 'geospatial_lat_max',\n",
       " 'geospatial_lat_min',\n",
       " 'geospatial_lat_units',\n",
       " 'geospatial_lon_max',\n",
       " 'geospatial_lon_min',\n",
       " 'geospatial_lon_units',\n",
       " 'get_variables_by_attributes',\n",
       " 'getncattr',\n",
       " 'groups',\n",
       " 'id',\n",
       " 'institution',\n",
       " 'isopen',\n",
       " 'keepweakref',\n",
       " 'keywords',\n",
       " 'keywords_vocabulary',\n",
       " 'license',\n",
       " 'metadata_link',\n",
       " 'naming_authority',\n",
       " 'ncattrs',\n",
       " 'parent',\n",
       " 'path',\n",
       " 'platform',\n",
       " 'product_version',\n",
       " 'reference',\n",
       " 'renameAttribute',\n",
       " 'renameDimension',\n",
       " 'renameGroup',\n",
       " 'renameVariable',\n",
       " 'sensor',\n",
       " 'set_auto_mask',\n",
       " 'set_auto_maskandscale',\n",
       " 'set_auto_scale',\n",
       " 'set_fill_off',\n",
       " 'set_fill_on',\n",
       " 'setncattr',\n",
       " 'setncatts',\n",
       " 'source',\n",
       " 'spatial_resolution',\n",
       " 'standard_name_vocabulary',\n",
       " 'summary',\n",
       " 'sync',\n",
       " 'title',\n",
       " 'variables',\n",
       " 'vltypes']"
      ]
     },
     "execution_count": 8,
     "metadata": {},
     "output_type": "execute_result"
    }
   ],
   "source": [
    "import re\n",
    "[x for x in dir(dataset) if not re.match('^_.*', x)]"
   ]
  },
  {
   "cell_type": "markdown",
   "metadata": {
    "ein.tags": [
     "worksheet-0"
    ]
   },
   "source": [
    "This is getting closer, but there's still a lot here that may not be of interest to us. Since this is NetCDF data, though, we can call the `ncattrs` method on our `dataset` variable to get an even more specific list of attributes specific to this data."
   ]
  },
  {
   "cell_type": "code",
   "execution_count": 9,
   "metadata": {
    "autoscroll": "json-false",
    "collapsed": false,
    "ein.tags": [
     "worksheet-0"
    ]
   },
   "outputs": [
    {
     "data": {
      "text/plain": [
       "['Conventions',\n",
       " 'Metadata_Conventions',\n",
       " 'standard_name_vocabulary',\n",
       " 'id',\n",
       " 'naming_authority',\n",
       " 'reference',\n",
       " 'metadata_link',\n",
       " 'title',\n",
       " 'product_version',\n",
       " 'summary',\n",
       " 'keywords',\n",
       " 'keywords_vocabulary',\n",
       " 'platform',\n",
       " 'sensor',\n",
       " 'cdm_data_type',\n",
       " 'source',\n",
       " 'date_created',\n",
       " 'institution',\n",
       " 'geospatial_lat_units',\n",
       " 'geospatial_lon_units',\n",
       " 'geospatial_lat_min',\n",
       " 'geospatial_lat_max',\n",
       " 'geospatial_lon_min',\n",
       " 'geospatial_lon_max',\n",
       " 'spatial_resolution',\n",
       " 'license',\n",
       " 'DODS_EXTRA.Unlimited_Dimension']"
      ]
     },
     "execution_count": 9,
     "metadata": {},
     "output_type": "execute_result"
    }
   ],
   "source": [
    "dataset.ncattrs()"
   ]
  },
  {
   "cell_type": "markdown",
   "metadata": {
    "ein.tags": [
     "worksheet-0"
    ]
   },
   "source": [
    "We can inspect these attributes to see their values, which match information on [this dataset's documentation page](http://nsidc.org/data/docs/measures/nsidc-0530/index.html) at NSIDC."
   ]
  },
  {
   "cell_type": "code",
   "execution_count": 10,
   "metadata": {
    "autoscroll": "json-false",
    "collapsed": false,
    "ein.tags": [
     "worksheet-0"
    ]
   },
   "outputs": [
    {
     "data": {
      "text/plain": [
       "'MEaSUREs Northern Hemisphere Terrestrial Snow Cover Extent Daily 25km EASE-Grid 2.0'"
      ]
     },
     "execution_count": 10,
     "metadata": {},
     "output_type": "execute_result"
    }
   ],
   "source": [
    "dataset.title"
   ]
  },
  {
   "cell_type": "code",
   "execution_count": 11,
   "metadata": {
    "autoscroll": "json-false",
    "collapsed": false,
    "ein.tags": [
     "worksheet-0"
    ]
   },
   "outputs": [
    {
     "data": {
      "text/plain": [
       "'Center for Environmental Prediction, Rutgers University'"
      ]
     },
     "execution_count": 11,
     "metadata": {},
     "output_type": "execute_result"
    }
   ],
   "source": [
    "dataset.institution"
   ]
  },
  {
   "cell_type": "markdown",
   "metadata": {
    "ein.tags": [
     "worksheet-0"
    ]
   },
   "source": [
    "The actual data is available under `variables`: "
   ]
  },
  {
   "cell_type": "code",
   "execution_count": 12,
   "metadata": {
    "autoscroll": "json-false",
    "collapsed": false,
    "ein.tags": [
     "worksheet-0"
    ]
   },
   "outputs": [
    {
     "name": "stdout",
     "output_type": "stream",
     "text": [
      "time\n",
      "rows\n",
      "cols\n",
      "coord_system\n",
      "latitude\n",
      "longitude\n",
      "merged_snow_cover_extent\n",
      "ims_snow_cover_extent\n",
      "passive_microwave_gap_filled_snow_cover_extent\n",
      "modis_cloud_gap_filled_snow_cover_extent\n"
     ]
    }
   ],
   "source": [
    "for variable in dataset.variables:\n",
    "    print(variable)"
   ]
  },
  {
   "cell_type": "markdown",
   "metadata": {
    "ein.tags": [
     "worksheet-0"
    ]
   },
   "source": [
    "Note that these variables correspond to those listed in Table 3 of the documentation page linked to above.\n",
    "\n",
    "Let's extract the `latitude` variable and look at its properties. In a Jupyter notebook, as in a Python REPL -- but unlike in non-interactive Python code -- simply giving the name of an object will cause its textual representation to be printed. (In a Jupyter notebook, this only works on the last line of a cell.)"
   ]
  },
  {
   "cell_type": "code",
   "execution_count": 13,
   "metadata": {
    "autoscroll": "json-false",
    "collapsed": false,
    "ein.tags": [
     "worksheet-0"
    ]
   },
   "outputs": [
    {
     "data": {
      "text/plain": [
       "<class 'netCDF4._netCDF4.Variable'>\n",
       "float32 latitude(rows, cols)\n",
       "    _FillValue: -999.0\n",
       "    long_name: latitude of cell center in EASE-Grid-2.0\n",
       "    units: degrees_north\n",
       "    valid_range: [-90.  90.]\n",
       "    standard_name: latitude\n",
       "unlimited dimensions: \n",
       "current shape = (720, 720)\n",
       "filling off"
      ]
     },
     "execution_count": 13,
     "metadata": {},
     "output_type": "execute_result"
    }
   ],
   "source": [
    "latitude = dataset.variables['latitude']\n",
    "latitude"
   ]
  },
  {
   "cell_type": "markdown",
   "metadata": {
    "ein.tags": [
     "worksheet-0"
    ]
   },
   "source": [
    "Lots of useful information! `latitude` is a 720 x 720 array, with valid values ranging from -90 to 90 degrees north, and invalid (\"fill\") marked as -999.\n",
    "\n",
    "Since we pulled `latitude` out of another object, rather than creating it explicitly as we did with the `Dataset`, what kind of object do we have?"
   ]
  },
  {
   "cell_type": "code",
   "execution_count": 14,
   "metadata": {
    "autoscroll": "json-false",
    "collapsed": false,
    "ein.tags": [
     "worksheet-0"
    ]
   },
   "outputs": [
    {
     "data": {
      "text/plain": [
       "netCDF4._netCDF4.Variable"
      ]
     },
     "execution_count": 14,
     "metadata": {},
     "output_type": "execute_result"
    }
   ],
   "source": [
    "type(latitude)"
   ]
  },
  {
   "cell_type": "markdown",
   "metadata": {
    "ein.tags": [
     "worksheet-0"
    ]
   },
   "source": [
    "No surprise there. And how are the data in this variable represented?"
   ]
  },
  {
   "cell_type": "code",
   "execution_count": 15,
   "metadata": {
    "autoscroll": "json-false",
    "collapsed": false,
    "ein.tags": [
     "worksheet-0"
    ]
   },
   "outputs": [
    {
     "data": {
      "text/plain": [
       "dtype('float32')"
      ]
     },
     "execution_count": 15,
     "metadata": {},
     "output_type": "execute_result"
    }
   ],
   "source": [
    "latitude.datatype"
   ]
  },
  {
   "cell_type": "markdown",
   "metadata": {
    "ein.tags": [
     "worksheet-0"
    ]
   },
   "source": [
    "As 32-bit floating-point numbers. We also saw, but might not have noticed, this when we printed `latitude`, above: Note the `float32` designation in the second line. Similarly, all the other data shown above can be extracted with more targeted queries:"
   ]
  },
  {
   "cell_type": "code",
   "execution_count": 16,
   "metadata": {
    "autoscroll": "json-false",
    "collapsed": false,
    "ein.tags": [
     "worksheet-0"
    ]
   },
   "outputs": [
    {
     "data": {
      "text/plain": [
       "'latitude of cell center in EASE-Grid-2.0'"
      ]
     },
     "execution_count": 16,
     "metadata": {},
     "output_type": "execute_result"
    }
   ],
   "source": [
    "latitude.long_name"
   ]
  },
  {
   "cell_type": "code",
   "execution_count": 17,
   "metadata": {
    "autoscroll": "json-false",
    "collapsed": false,
    "ein.tags": [
     "worksheet-0"
    ]
   },
   "outputs": [
    {
     "data": {
      "text/plain": [
       "array([-90.,  90.], dtype=float32)"
      ]
     },
     "execution_count": 17,
     "metadata": {},
     "output_type": "execute_result"
    }
   ],
   "source": [
    "latitude.valid_range"
   ]
  },
  {
   "cell_type": "code",
   "execution_count": 18,
   "metadata": {
    "autoscroll": "json-false",
    "collapsed": false,
    "ein.tags": [
     "worksheet-0"
    ]
   },
   "outputs": [
    {
     "data": {
      "text/plain": [
       "(720, 720)"
      ]
     },
     "execution_count": 18,
     "metadata": {},
     "output_type": "execute_result"
    }
   ],
   "source": [
    "latitude.shape"
   ]
  },
  {
   "cell_type": "markdown",
   "metadata": {
    "ein.tags": [
     "worksheet-0"
    ]
   },
   "source": [
    "We can also extract metadata that we could otherwise compute:"
   ]
  },
  {
   "cell_type": "code",
   "execution_count": 19,
   "metadata": {
    "autoscroll": "json-false",
    "collapsed": false,
    "ein.tags": [
     "worksheet-0"
    ]
   },
   "outputs": [
    {
     "data": {
      "text/plain": [
       "2"
      ]
     },
     "execution_count": 19,
     "metadata": {},
     "output_type": "execute_result"
    }
   ],
   "source": [
    "latitude.ndim"
   ]
  },
  {
   "cell_type": "code",
   "execution_count": 20,
   "metadata": {
    "autoscroll": "json-false",
    "collapsed": false,
    "ein.tags": [
     "worksheet-0"
    ]
   },
   "outputs": [
    {
     "data": {
      "text/plain": [
       "518400"
      ]
     },
     "execution_count": 20,
     "metadata": {},
     "output_type": "execute_result"
    }
   ],
   "source": [
    "latitude.size"
   ]
  },
  {
   "cell_type": "markdown",
   "metadata": {
    "ein.tags": [
     "worksheet-0"
    ]
   },
   "source": [
    "These are shorthand for"
   ]
  },
  {
   "cell_type": "code",
   "execution_count": 21,
   "metadata": {
    "autoscroll": "json-false",
    "collapsed": false,
    "ein.tags": [
     "worksheet-0"
    ]
   },
   "outputs": [
    {
     "data": {
      "text/plain": [
       "2"
      ]
     },
     "execution_count": 21,
     "metadata": {},
     "output_type": "execute_result"
    }
   ],
   "source": [
    "len(latitude.shape)"
   ]
  },
  {
   "cell_type": "code",
   "execution_count": 22,
   "metadata": {
    "autoscroll": "json-false",
    "collapsed": false,
    "ein.tags": [
     "worksheet-0"
    ]
   },
   "outputs": [
    {
     "data": {
      "text/plain": [
       "518400"
      ]
     },
     "execution_count": 22,
     "metadata": {},
     "output_type": "execute_result"
    }
   ],
   "source": [
    "latitude.shape[0] * latitude.shape[1]"
   ]
  },
  {
   "cell_type": "markdown",
   "metadata": {
    "ein.tags": [
     "worksheet-0"
    ]
   },
   "source": [
    "Just as with our `Dataset`, we can look at all the public attributes and methods of our `Variable`:"
   ]
  },
  {
   "cell_type": "code",
   "execution_count": 23,
   "metadata": {
    "autoscroll": "json-false",
    "collapsed": false,
    "ein.tags": [
     "worksheet-0"
    ]
   },
   "outputs": [
    {
     "data": {
      "text/plain": [
       "['assignValue',\n",
       " 'chunking',\n",
       " 'datatype',\n",
       " 'delncattr',\n",
       " 'dimensions',\n",
       " 'dtype',\n",
       " 'endian',\n",
       " 'filters',\n",
       " 'getValue',\n",
       " 'get_var_chunk_cache',\n",
       " 'getncattr',\n",
       " 'group',\n",
       " 'long_name',\n",
       " 'mask',\n",
       " 'name',\n",
       " 'ncattrs',\n",
       " 'ndim',\n",
       " 'renameAttribute',\n",
       " 'scale',\n",
       " 'set_auto_mask',\n",
       " 'set_auto_maskandscale',\n",
       " 'set_auto_scale',\n",
       " 'set_var_chunk_cache',\n",
       " 'setncattr',\n",
       " 'setncatts',\n",
       " 'shape',\n",
       " 'size',\n",
       " 'standard_name',\n",
       " 'units',\n",
       " 'valid_range']"
      ]
     },
     "execution_count": 23,
     "metadata": {},
     "output_type": "execute_result"
    }
   ],
   "source": [
    "[x for x in dir(latitude) if not re.match(\"^_.*\", x)]"
   ]
  },
  {
   "cell_type": "markdown",
   "metadata": {
    "ein.tags": [
     "worksheet-0"
    ]
   },
   "source": [
    "Instances of the `Variable` class (like our `latitude` object) from `netCDF` behave like multidimensional arrays, similar to NumPy's `ndarray`. So, we can access elements with the familiar `[]` bracket notation. Since we know that `latitude` is 720 x 720, as we expect:"
   ]
  },
  {
   "cell_type": "code",
   "execution_count": 24,
   "metadata": {
    "autoscroll": "json-false",
    "collapsed": false,
    "ein.tags": [
     "worksheet-0"
    ]
   },
   "outputs": [
    {
     "data": {
      "text/plain": [
       "720"
      ]
     },
     "execution_count": 24,
     "metadata": {},
     "output_type": "execute_result"
    }
   ],
   "source": [
    "len(latitude)"
   ]
  },
  {
   "cell_type": "markdown",
   "metadata": {
    "ein.tags": [
     "worksheet-0"
    ]
   },
   "source": [
    "And if we look at the first row in the `latitude` array, its length is similarly what we'd expect:"
   ]
  },
  {
   "cell_type": "code",
   "execution_count": 25,
   "metadata": {
    "autoscroll": "json-false",
    "collapsed": false,
    "ein.tags": [
     "worksheet-0"
    ]
   },
   "outputs": [
    {
     "data": {
      "text/plain": [
       "720"
      ]
     },
     "execution_count": 25,
     "metadata": {},
     "output_type": "execute_result"
    }
   ],
   "source": [
    "len(latitude[0])"
   ]
  },
  {
   "cell_type": "markdown",
   "metadata": {
    "ein.tags": [
     "worksheet-0"
    ]
   },
   "source": [
    "Note that Python is zero-indexed like C, and unlike Fortran, so valid indices range from 0 to 719."
   ]
  },
  {
   "cell_type": "markdown",
   "metadata": {
    "ein.tags": [
     "worksheet-0"
    ]
   },
   "source": [
    "Let's extract the `time` variable from our dataset and examine it. (Note that we can view output from commands other than the last one in a cell by explicitly using Python's `print` command.)"
   ]
  },
  {
   "cell_type": "code",
   "execution_count": 26,
   "metadata": {
    "autoscroll": "json-false",
    "collapsed": false,
    "ein.tags": [
     "worksheet-0"
    ]
   },
   "outputs": [
    {
     "name": "stdout",
     "output_type": "stream",
     "text": [
      "<class 'netCDF4._netCDF4.Variable'>\n",
      "int32 time(time)\n",
      "    calendar: gregorian\n",
      "    axis: T\n",
      "    units: days since 1998-12-31\n",
      "    long_name: time\n",
      "    standard_name: time\n",
      "unlimited dimensions: time\n",
      "current shape = (1,)\n",
      "filling off\n",
      "\n",
      "4749\n"
     ]
    }
   ],
   "source": [
    "time = dataset.variables['time']\n",
    "print(time)\n",
    "print(time[0])"
   ]
  },
  {
   "cell_type": "markdown",
   "metadata": {
    "ein.tags": [
     "worksheet-0"
    ]
   },
   "source": [
    "So, this dataset's data starts 4749 days after 1998-12-31 on the Gregorian calendar. Let's convert that information into something more useful:"
   ]
  },
  {
   "cell_type": "code",
   "execution_count": 27,
   "metadata": {
    "autoscroll": "json-false",
    "collapsed": false,
    "ein.tags": [
     "worksheet-0"
    ]
   },
   "outputs": [
    {
     "name": "stdout",
     "output_type": "stream",
     "text": [
      "units: days since 1998-12-31\n",
      "value: 4749\n"
     ]
    },
    {
     "data": {
      "text/plain": [
       "'2012-01-01'"
      ]
     },
     "execution_count": 27,
     "metadata": {},
     "output_type": "execute_result"
    }
   ],
   "source": [
    "units = time.units\n",
    "print('units: %s' % units)\n",
    "value = time[0]\n",
    "print('value: %s' % value)\n",
    "netCDF4.num2date([value], units)[0].strftime('%Y-%m-%d')"
   ]
  },
  {
   "cell_type": "markdown",
   "metadata": {
    "ein.tags": [
     "worksheet-0"
    ]
   },
   "source": [
    "Happily, this agrees with the URL we used to request this data in the first place. If we had a directory full of data files to process, we could obtain this information internally rather than relying on metadata encoded in filenames."
   ]
  },
  {
   "cell_type": "markdown",
   "metadata": {
    "ein.tags": [
     "worksheet-0"
    ]
   },
   "source": [
    "Out of curiosity, let's check that the `longitude` variable's shape conforms to that of `latitude`, as we'd hope."
   ]
  },
  {
   "cell_type": "code",
   "execution_count": 28,
   "metadata": {
    "autoscroll": "json-false",
    "collapsed": false,
    "ein.tags": [
     "worksheet-0"
    ]
   },
   "outputs": [
    {
     "data": {
      "text/plain": [
       "<class 'netCDF4._netCDF4.Variable'>\n",
       "float32 longitude(rows, cols)\n",
       "    _FillValue: -999.0\n",
       "    long_name: longitude of cell center in EASE-Grid-2.0\n",
       "    units: degrees_east\n",
       "    valid_range: [-180.  180.]\n",
       "    standard_name: longitude\n",
       "unlimited dimensions: \n",
       "current shape = (720, 720)\n",
       "filling off"
      ]
     },
     "execution_count": 28,
     "metadata": {},
     "output_type": "execute_result"
    }
   ],
   "source": [
    "longitude = dataset.variables['longitude']\n",
    "longitude"
   ]
  },
  {
   "cell_type": "markdown",
   "metadata": {
    "ein.tags": [
     "worksheet-0"
    ]
   },
   "source": [
    "Good, it is 720 x 720 just like `latitude`.\n",
    "\n",
    "Now let's look at one of the actual snow-cover variables which, presumably, is why we're bothering with this dataset in the first place:"
   ]
  },
  {
   "cell_type": "code",
   "execution_count": 29,
   "metadata": {
    "autoscroll": "json-false",
    "collapsed": false,
    "ein.tags": [
     "worksheet-0"
    ]
   },
   "outputs": [
    {
     "data": {
      "text/plain": [
       "<class 'netCDF4._netCDF4.Variable'>\n",
       "int16 merged_snow_cover_extent(time, rows, cols)\n",
       "    flag_meanings: modis_microwave_ims_report_snow modis_microwave_report_snow modis_ims_report_snow microwave_ims_report_snow modis_only_reports_snow microwave_only_reports_snow ims_only_reports_snow snow_free_land permanent_ice ocean\n",
       "    flag_values: [10 11 12 13 14 15 16 20 30 40]\n",
       "    _FillValue: -99\n",
       "    comment: 10: Snow cover reported by modis_cloud_gap_filled, passive_microwave, ims, 11: Snow cover reported by modis_cloud_gap_filled, passive_microwave,  12: Snow cover reported by modis_cloud_gap_filled, ims, 13: Snow cover reported by passive_microwave, ims, 14: Snow cover reported by modis_cloud_gap_filled only, 15: Snow cover reported by passive_microwave only, 16: Snow cover reported by ims only, 20: Snow free land, 30: Permanent ice covered land, 40: Ocean\n",
       "    valid_range: [10 40]\n",
       "    coordinates: longitude latitude time\n",
       "    long_name: Merged Snow Cover Extent\n",
       "    grid_mapping: coord_system\n",
       "unlimited dimensions: time\n",
       "current shape = (1, 720, 720)\n",
       "filling off"
      ]
     },
     "execution_count": 29,
     "metadata": {},
     "output_type": "execute_result"
    }
   ],
   "source": [
    "msce = dataset.variables['merged_snow_cover_extent']\n",
    "msce"
   ]
  },
  {
   "cell_type": "markdown",
   "metadata": {
    "ein.tags": [
     "worksheet-0"
    ]
   },
   "source": [
    "Inspecting the Merged Snow Cover Extent variable, we see that the data is in a 720 x 720 array (the dimensions match those of latitude and longitude, so that's good!) whose values are integers specifying snow cover information from various sources, as well as snow-free and ice-covered land, and ocean.\n",
    "\n",
    "A \"fill\" value of -99 is used to indicate bad or unavailable data.\n",
    "\n",
    "We can pick a \"random\" array element and see its value:"
   ]
  },
  {
   "cell_type": "code",
   "execution_count": 30,
   "metadata": {
    "autoscroll": "json-false",
    "collapsed": false,
    "ein.tags": [
     "worksheet-0"
    ]
   },
   "outputs": [
    {
     "data": {
      "text/plain": [
       "40"
      ]
     },
     "execution_count": 30,
     "metadata": {},
     "output_type": "execute_result"
    }
   ],
   "source": [
    "msce[0][360][360]"
   ]
  },
  {
   "cell_type": "markdown",
   "metadata": {
    "ein.tags": [
     "worksheet-0"
    ]
   },
   "source": [
    "40 = Ocean. Does it make sense?"
   ]
  },
  {
   "cell_type": "code",
   "execution_count": 31,
   "metadata": {
    "autoscroll": "json-false",
    "collapsed": false,
    "ein.tags": [
     "worksheet-0"
    ]
   },
   "outputs": [
    {
     "name": "stdout",
     "output_type": "stream",
     "text": [
      "89.8417\n",
      "45.0\n"
     ]
    }
   ],
   "source": [
    "print(latitude[360][360])\n",
    "print(longitude[360][360])"
   ]
  },
  {
   "cell_type": "markdown",
   "metadata": {
    "ein.tags": [
     "worksheet-0"
    ]
   },
   "source": [
    "That's pretty close to the north pole, in the Arctic Ocean, so seems reasonable.\n",
    "\n",
    "Let's do a quick-and-dirty visualization of this data as another reality check:"
   ]
  },
  {
   "cell_type": "code",
   "execution_count": 32,
   "metadata": {
    "autoscroll": "json-false",
    "collapsed": false,
    "ein.tags": [
     "worksheet-0"
    ]
   },
   "outputs": [
    {
     "data": {
      "text/plain": [
       "<matplotlib.image.AxesImage at 0x10ff32e10>"
      ]
     },
     "execution_count": 32,
     "metadata": {},
     "output_type": "execute_result"
    },
    {
     "data": {
      "image/png": "[encoded data removed]",
      "text/plain": [
       "<matplotlib.figure.Figure at 0x10ebd9080>"
      ]
     },
     "metadata": {},
     "output_type": "display_data"
    }
   ],
   "source": [
    "%matplotlib inline\n",
    "import matplotlib.pyplot as plt\n",
    "plt.imshow(msce[0, :, :])"
   ]
  },
  {
   "cell_type": "markdown",
   "metadata": {
    "ein.tags": [
     "worksheet-0"
    ]
   },
   "source": [
    "Looking down on the North Pole, we can recognize familiar geographic shapes: North America to the left, Asia to the right, and Greenland in yellow near the center. Note that the scale of the axes are in rows and columns, not latitudes and longitudes. Still, this is a helpful visual verification that we are looking at reasonable data."
   ]
  },
  {
   "cell_type": "markdown",
   "metadata": {
    "ein.tags": [
     "worksheet-0"
    ]
   },
   "source": [
    "Let's use NumPy to convert our `msce` variable into an `ndarray` object, and get rid of that useless first dimension. NumPy's `squeeze` method removes all trivial (one-element) dimensions from a multidimensional array."
   ]
  },
  {
   "cell_type": "code",
   "execution_count": 33,
   "metadata": {
    "autoscroll": "json-false",
    "collapsed": false,
    "ein.tags": [
     "worksheet-0"
    ]
   },
   "outputs": [
    {
     "data": {
      "text/plain": [
       "(720, 720)"
      ]
     },
     "execution_count": 33,
     "metadata": {},
     "output_type": "execute_result"
    }
   ],
   "source": [
    "import numpy as np\n",
    "msce = np.squeeze(msce)\n",
    "msce.shape"
   ]
  },
  {
   "cell_type": "markdown",
   "metadata": {
    "ein.tags": [
     "worksheet-0"
    ]
   },
   "source": [
    "That's better. Now `msce`'s dimension matches that of `latitude` and `longitude`.\n",
    "\n",
    "How much _good_ data do we have in `msce`? That is, how many data elements are there in total, and how many are set to the bad-data fill value?"
   ]
  },
  {
   "cell_type": "code",
   "execution_count": 34,
   "metadata": {
    "autoscroll": "json-false",
    "collapsed": false,
    "ein.tags": [
     "worksheet-0"
    ]
   },
   "outputs": [
    {
     "name": "stdout",
     "output_type": "stream",
     "text": [
      "518400\n",
      "408052\n"
     ]
    }
   ],
   "source": [
    "print(msce.size)\n",
    "print(msce[msce != -99].size)"
   ]
  },
  {
   "cell_type": "markdown",
   "metadata": {
    "ein.tags": [
     "worksheet-0"
    ]
   },
   "source": [
    "# Paul: Is this what you want to say?"
   ]
  },
  {
   "cell_type": "markdown",
   "metadata": {
    "ein.tags": [
     "worksheet-0"
    ]
   },
   "source": [
    "So, over 20% of the data elements are set to the fill value. This sometimes happens with satellite (and other data): Quality Control (QC) algorithms determine that some observations are suspect, so they are marked as such so that further analysis can avoid depending on them."
   ]
  },
  {
   "cell_type": "markdown",
   "metadata": {
    "ein.tags": [
     "worksheet-0"
    ]
   },
   "source": [
    "Looking at areas where the images is missing you can see that it has been marked as missing in off earth positions."
   ]
  },
  {
   "cell_type": "code",
   "execution_count": 35,
   "metadata": {
    "autoscroll": "json-false",
    "collapsed": false,
    "ein.tags": [
     "worksheet-0"
    ]
   },
   "outputs": [
    {
     "data": {
      "text/plain": [
       "<matplotlib.image.AxesImage at 0x11530cac8>"
      ]
     },
     "execution_count": 35,
     "metadata": {},
     "output_type": "execute_result"
    },
    {
     "data": {
      "image/png": "[encoded data removed]",
      "text/plain": [
       "<matplotlib.figure.Figure at 0x10ebd2e10>"
      ]
     },
     "metadata": {},
     "output_type": "display_data"
    }
   ],
   "source": [
    "plt.imshow(msce == -99, cmap=\"Blues\")"
   ]
  },
  {
   "cell_type": "markdown",
   "metadata": {
    "ein.tags": [
     "worksheet-0"
    ]
   },
   "source": [
    "### Subsetting data with OpenDAP\n",
    "\n",
    "One benefit to using OpenDAP for data acess is that data can be subsetted prior to download, to avoid the transfer and storage of data one is not interested in.\n",
    "\n",
    "NSIDC's [OPeNDAP Server Dataset Access Form](http://opendap.apps.nsidc.org/opendap/DATASETS/nsidc0530_MEASURES_nhsnow_daily25/2012/nhtsd25e2_20120101_v01r01.nc.html) for this data gives some guidance on subsetting the data. For starters, let's restrict our query to the three variables -- Latitude, Longitude, and Merged Snow Cover Extent -- that we are interested in. When we tick the checkboxes for _latitude_, _longitude_, and _merged_snow_cover_extent_, the URL shown in the _Data URL_ field is updated to:\n",
    "\n",
    "`http://opendap.apps.nsidc.org:80/opendap/DATASETS/nsidc0530_MEASURES_nhsnow_daily25/2012/nhtsd25e2_20120101_v01r01.nc?latitude[0:1:719][0:1:719],longitude[0:1:719][0:1:719],merged_snow_cover_extent[0:1:0][0:1:719][0:1:719]`\n",
    "\n",
    "Let's perform our query and data again with this URL and check the variables we have now:"
   ]
  },
  {
   "cell_type": "code",
   "execution_count": 36,
   "metadata": {
    "autoscroll": "json-false",
    "collapsed": false,
    "ein.tags": [
     "worksheet-0"
    ]
   },
   "outputs": [
    {
     "name": "stdout",
     "output_type": "stream",
     "text": [
      "latitude\n",
      "longitude\n",
      "merged_snow_cover_extent\n"
     ]
    }
   ],
   "source": [
    "url = ('http://opendap.apps.nsidc.org:80/opendap/DATASETS/'\n",
    "       'nsidc0530_MEASURES_nhsnow_daily25/2012/nhtsd25e2_20120101_v01r01.nc?'\n",
    "       'latitude[0:1:719][0:1:719],'\n",
    "       'longitude[0:1:719][0:1:719],'\n",
    "       'merged_snow_cover_extent[0:1:0][0:1:719][0:1:719]'\n",
    ")\n",
    "dataset = netCDF4.Dataset(url)\n",
    "for variable in dataset.variables:\n",
    "    print(variable)"
   ]
  },
  {
   "cell_type": "markdown",
   "metadata": {
    "ein.tags": [
     "worksheet-0"
    ]
   },
   "source": [
    "Previously, we had ten variables; now we have only three. Nice.\n",
    "\n",
    "Let's say we're only interested in snow cover in Iceland. Let's subset the data geographically as well. The [OPeNDAP Server Dataset Access Form](http://opendap.apps.nsidc.org/opendap/DATASETS/nsidc0530_MEASURES_nhsnow_daily25/2012/nhtsd25e2_20120101_v01r01.nc.html) gives us options for constraining the variables, but expects us to do so by row and column. Iceland lies between about 12 to 25 degrees west, and 63 to 67 degrees north. Let's see which rows and columns in our Dataset fall within those bounds:"
   ]
  },
  {
   "cell_type": "code",
   "execution_count": null,
   "metadata": {
    "autoscroll": "json-false",
    "collapsed": false,
    "ein.tags": [
     "worksheet-0"
    ]
   },
   "outputs": [],
   "source": []
  },
  {
   "cell_type": "code",
   "execution_count": 37,
   "metadata": {
    "autoscroll": "json-false",
    "collapsed": false,
    "ein.tags": [
     "worksheet-0"
    ]
   },
   "outputs": [
    {
     "name": "stdout",
     "output_type": "stream",
     "text": [
      "rows 453:476\n",
      "cols 310:338\n"
     ]
    }
   ],
   "source": [
    "# Matt\n",
    "latitude = np.array(dataset.variables['latitude'])\n",
    "longitude = np.array(dataset.variables['longitude'])\n",
    "minrow = 720\n",
    "maxrow = -1\n",
    "mincol = 720\n",
    "maxcol = -1\n",
    "for row in range(0, 720):\n",
    "    for col in range(0, 720):\n",
    "        a = latitude[row][col]\n",
    "        b = longitude[row][col]\n",
    "        if a >= 63 and a <= 67 and b >= -25 and b <= -12:\n",
    "            minrow = min(minrow, row)\n",
    "            maxrow = max(maxrow, row)\n",
    "            mincol = min(mincol, col)\n",
    "            maxcol = max(maxcol, col)\n",
    "print('rows %d:%d' % (minrow, maxrow))\n",
    "print('cols %d:%d' % (mincol, maxcol))"
   ]
  },
  {
   "cell_type": "markdown",
   "metadata": {
    "ein.tags": [
     "worksheet-0"
    ]
   },
   "source": [
    "Create a boolean array of values that surround iceland."
   ]
  },
  {
   "cell_type": "code",
   "execution_count": 38,
   "metadata": {
    "autoscroll": "json-false",
    "collapsed": false,
    "ein.tags": [
     "worksheet-0"
    ]
   },
   "outputs": [],
   "source": [
    "in_range = (latitude >= 63) & (latitude <= 67) & (longitude >= -25) & (longitude <= -12)"
   ]
  },
  {
   "cell_type": "markdown",
   "metadata": {
    "ein.tags": [
     "worksheet-0"
    ]
   },
   "source": [
    "Get a tuple of (x, y) locations on `in_range` where `in_range` is true"
   ]
  },
  {
   "cell_type": "code",
   "execution_count": 39,
   "metadata": {
    "autoscroll": "json-false",
    "collapsed": false,
    "ein.tags": [
     "worksheet-0"
    ]
   },
   "outputs": [
    {
     "name": "stdout",
     "output_type": "stream",
     "text": [
      "[ True  True  True  True  True]\n"
     ]
    }
   ],
   "source": [
    "y, x = np.where(in_range)\n",
    "print(in_range[y[0:5], x[0:5]])"
   ]
  },
  {
   "cell_type": "code",
   "execution_count": 40,
   "metadata": {
    "autoscroll": "json-false",
    "collapsed": false,
    "ein.tags": [
     "worksheet-0"
    ]
   },
   "outputs": [
    {
     "name": "stdout",
     "output_type": "stream",
     "text": [
      "(453, 476, 310, 338)\n"
     ]
    }
   ],
   "source": [
    "bbox = np.min(y), np.max(y), np.min(x), np.max(x)\n",
    "print(bbox)\n"
   ]
  },
  {
   "cell_type": "markdown",
   "metadata": {
    "ein.tags": [
     "worksheet-0"
    ]
   },
   "source": [
    "Now let's add contraints our OpenDAP URL to select just the rows and columns that we think correspond to Iceland. The OpenDAP constraints are given in `lower_bound:stride:upper_bound` form:"
   ]
  },
  {
   "cell_type": "code",
   "execution_count": 41,
   "metadata": {
    "autoscroll": "json-false",
    "collapsed": false,
    "ein.tags": [
     "worksheet-0"
    ]
   },
   "outputs": [
    {
     "data": {
      "text/plain": [
       "<class 'netCDF4._netCDF4.Dataset'>\n",
       "root group (NETCDF3_CLASSIC data model, file format DAP2):\n",
       "    Conventions: CF-1.6\n",
       "    Metadata_Conventions: CF-1.6, Unidata Dataset Discovery v1.0, GDS v2.0\n",
       "    standard_name_vocabulary: CF Standard Name Table (v22, 12 February 2013)\n",
       "    id: nhtsd25e2_20120101_v01r01.nc\n",
       "    naming_authority: gov.nasa.eosdis\n",
       "    reference: http://dx.doi.org/10.5067/MEASURES/CRYOSPHERE/nsidc-0530.001\n",
       "    metadata_link: http://nsidc.org/api/metadata?id=nsidc-0530\n",
       "    title: MEaSUREs Northern Hemisphere Terrestrial Snow Cover Extent Daily 25km EASE-Grid 2.0\n",
       "    product_version: v01r01\n",
       "    summary: This NASA MEaSUREs Earth System Data Record (ESDR) merges daily Northern Hemisphere snow cover extents over land derived from three independently produced sources.  Variables include snow cover extent from the Interactive Multisensor Snow and Ice Mapping System (IMS), a gap-filled snow extent product derived from the Moderate Resolution Imaging Spectroradiometer (MODIS), and a gap-filled snow extent product derived from the Special Sensor Microwave/Imager (SSMI) and Special Sensor Microwave Imager/Sounder (SSMIS).  The NSIDC Land-Ocean-Coast-Ice (LOCI) mask derived from BU-MODIS land cover data is consistently applied to each variable.  Data are in a Northern Hemisphere equal area projection at 25 km resolution, and are contained in netCDF files spanning from January 1, 1999 to December 31, 2012.\n",
       "    keywords: EARTH SCIENCE > CRYOSPHERE > SNOW/ICE > SNOW COVER, EARTH SCIENCE > TERRESTRIAL HYDROSPHERE > SNOW/ICE > SNOW COVER\n",
       "    keywords_vocabulary: NASA Global Change Master Directory (GCMD) Earth Science Keywords, Version 8.0\n",
       "    platform: NOAA POES (Polar Orbiting Environmental Satellites), DMSP (Defense Meteorological Satellite Program), GOES (Geostationary Operational Environmental Satellite), METEOSAT, GMS (Japan Geostationary Meteorological Satellite), METOP, TERRA > Earth Observing System TERRA (AM-1), AQUA > Earth Observing System AQUA\n",
       "    sensor: VISSR > Visible and Infrared Spin Scan Radiometer, VAS > VISSR Atmospheric Sounder, MODIS > Moderate-Resolution Imaging Spectroradiometer, AMSU-B > Advanced Microwave Sounding Unit-B, AMSR-E > Advanced Microwave Scanning Radiometer-EOS, SSMI > Special Sensor Microwave/Imager, SSMIS > Special Sensor Microwave Imager/Sounder, VIIRS > Visible-Infrared Imager-Radiometer Suite\n",
       "    cdm_data_type: Grid\n",
       "    source: ftp://sidads.colorado.edu/pub/DATASETS/NOAA/G02156/24km/, ftp://sidads.colorado.edu/pub/DATASETS/nsidc0001_polar_stereo_tbs/, ftp://n5eil01u.ecs.nsidc.org/SAN/MOST/MOD10C1.005/\n",
       "    date_created: 2015-06-10T02:58:06Z\n",
       "    institution: Center for Environmental Prediction, Rutgers University\n",
       "    geospatial_lat_units: degrees_north\n",
       "    geospatial_lon_units: degrees_east\n",
       "    geospatial_lat_min: 0\n",
       "    geospatial_lat_max: 90\n",
       "    geospatial_lon_min: -180\n",
       "    geospatial_lon_max: 180\n",
       "    spatial_resolution: 25 km\n",
       "    license: No restrictions on access or use\n",
       "    DODS_EXTRA.Unlimited_Dimension: time\n",
       "    dimensions(sizes): time(1), cols(29), rows(24)\n",
       "    variables(dimensions): float32 \u001b[4mlatitude\u001b[0m(rows,cols), float32 \u001b[4mlongitude\u001b[0m(rows,cols), int16 \u001b[4mmerged_snow_cover_extent\u001b[0m(time,rows,cols)\n",
       "    groups: "
      ]
     },
     "execution_count": 41,
     "metadata": {},
     "output_type": "execute_result"
    }
   ],
   "source": [
    "url = ('http://opendap.apps.nsidc.org:80/opendap/DATASETS/'\n",
    "       'nsidc0530_MEASURES_nhsnow_daily25/2012/nhtsd25e2_20120101_v01r01.nc?'\n",
    "       'latitude[453:1:476][310:1:338],'\n",
    "       'longitude[453:1:476][310:1:338],'\n",
    "       'merged_snow_cover_extent[0:1:0][453:1:476][310:1:338]'\n",
    ")\n",
    "dataset = netCDF4.Dataset(url)\n",
    "dataset"
   ]
  },
  {
   "cell_type": "markdown",
   "metadata": {
    "ein.tags": [
     "worksheet-0"
    ]
   },
   "source": [
    "Note the line `dimensions(sizes): time(1), cols(29), rows(24)`: 24 rows and 29 columns, which corresponds to our request. This is a lot less data than we were getting with the full 720 x 720 grids!\n",
    "\n",
    "In Module 3, we'll display this geolocated data and see if we really got what we asked for."
   ]
  }
 ],
 "metadata": {
  "kernelspec": {
   "display_name": "Python 3",
   "language": "python",
   "name": "python3"
  },
  "language_info": {
   "codemirror_mode": {
    "name": "ipython",
    "version": 3
   },
   "file_extension": ".py",
   "mimetype": "text/x-python",
   "name": "python",
   "nbconvert_exporter": "python",
   "pygments_lexer": "ipython3",
   "version": "3.5.1"
  },
  "name": "module-2.ipynb"
 },
 "nbformat": 4,
 "nbformat_minor": 0
}
