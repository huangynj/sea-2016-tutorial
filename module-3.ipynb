{
 "cells": [
  {
   "cell_type": "markdown",
   "metadata": {
    "collapsed": true
   },
   "source": [
    "<p style=\"float:right\">\n",
    "<img src=\"images/logos/cu.png\" style=\"display:inline\" />\n",
    "<img src=\"images/logos/cires.png\" style=\"display:inline\" />\n",
    "<img src=\"images/logos/nasa.png\" style=\"display:inline\" />\n",
    "</p>\n",
    "\n",
    "# Python, Jupyter & pandas tutorial: Module 3\n",
    "\n",
    "## Viewing geolocated data\n",
    "\n",
    "In Module 2, we retrieved NSIDC snow-cover data from an OpenDAP server. Let's pull that data again for use in this notebook:"
   ]
  },
  {
   "cell_type": "code",
   "execution_count": null,
   "metadata": {
    "collapsed": true
   },
   "outputs": [],
   "source": [
    "import netCDF4\n",
    "import numpy as np\n",
    "url = ('http://opendap.apps.nsidc.org:80/opendap/DATASETS/'\n",
    "       'nsidc0530_MEASURES_nhsnow_daily25/2012/nhtsd25e2_20120101_v01r01.nc?'\n",
    "       'latitude[0:1:719][0:1:719],'\n",
    "       'longitude[0:1:719][0:1:719],'\n",
    "       'merged_snow_cover_extent[0:1:0][0:1:719][0:1:719]'\n",
    ")\n",
    "dataset = netCDF4.Dataset(url)\n",
    "latitude = np.array(dataset.variables['latitude'])\n",
    "longitude = np.array(dataset.variables['longitude'])\n",
    "msce = np.array(dataset.variables['merged_snow_cover_extent'])[0, :, :]"
   ]
  },
  {
   "cell_type": "markdown",
   "metadata": {},
   "source": [
    "And now let's pull in some graphics support now and get ready to plot our snow-cover data."
   ]
  },
  {
   "cell_type": "code",
   "execution_count": null,
   "metadata": {
    "collapsed": true
   },
   "outputs": [],
   "source": [
    "from mpl_toolkits.basemap import Basemap\n",
    "import matplotlib.pyplot as plt"
   ]
  },
  {
   "cell_type": "markdown",
   "metadata": {},
   "source": [
    "It will be helpful to have an underlying map image to better interpret our data, so let's be sure we can at least do that:"
   ]
  },
  {
   "cell_type": "code",
   "execution_count": null,
   "metadata": {
    "collapsed": false
   },
   "outputs": [],
   "source": [
    "%matplotlib inline\n",
    "plt.figure(figsize=(10, 10))\n",
    "map = Basemap(projection='npstere', boundinglat=45, lon_0=300)\n",
    "map.drawcoastlines()\n",
    "plt.draw()"
   ]
  },
  {
   "cell_type": "markdown",
   "metadata": {},
   "source": [
    "We can ask for more interesting background imagery -- though, in general, we won't in order to focus on the data."
   ]
  },
  {
   "cell_type": "code",
   "execution_count": null,
   "metadata": {
    "collapsed": false
   },
   "outputs": [],
   "source": [
    "%matplotlib inline\n",
    "plt.figure(figsize=(10, 10))\n",
    "map = Basemap(projection='npstere', boundinglat=45, lon_0=300)\n",
    "map.drawcoastlines()\n",
    "map.etopo()\n",
    "plt.draw()"
   ]
  },
  {
   "cell_type": "markdown",
   "metadata": {},
   "source": [
    "Let's take a quick look back at the metadata for our Merged Snow Cover Extent variable:"
   ]
  },
  {
   "cell_type": "code",
   "execution_count": null,
   "metadata": {
    "collapsed": false
   },
   "outputs": [],
   "source": [
    "dataset.variables['merged_snow_cover_extent']"
   ]
  },
  {
   "cell_type": "markdown",
   "metadata": {},
   "source": [
    "So, the snow-cover variable's values consist of discrete integers whose values represent snow cover from different sources, snow-free land, permanent ice-covered land, ocean, or a fill value.\n",
    "\n",
    "As a reality check, let's find the would-be ocean points and plot them on our map:"
   ]
  },
  {
   "cell_type": "markdown",
   "metadata": {},
   "source": [
    "# Yo! Is there a nicer way to construct the lats / lons lists (below) with NumPy, list comprehensions, etc.? Or should we do it the 'dumb' way here and show nicer filtering with pandas?"
   ]
  },
  {
   "cell_type": "code",
   "execution_count": null,
   "metadata": {
    "collapsed": false
   },
   "outputs": [],
   "source": [
    "%matplotlib inline\n",
    "plt.figure(figsize=(10, 10))\n",
    "map = Basemap(projection='npstere', boundinglat=45, lon_0=300)\n",
    "map.drawcoastlines()\n",
    "latitude = np.array(latitude)\n",
    "longitude = np.array(longitude)\n",
    "lats = []\n",
    "lons = []\n",
    "for row in range(0, latitude.shape[0]):\n",
    "    for col in range(0, latitude.shape[1]):\n",
    "        lat = latitude[row][col]\n",
    "        lon = longitude[row][col]\n",
    "        cover = msce[row][col]\n",
    "        if lat >= 45 and cover == 40:\n",
    "            lats.append(lat)\n",
    "            lons.append(lon)\n",
    "x, y = map(lons, lats)\n",
    "map.plot(x, y, '.', color='SeaGreen')\n",
    "plt.draw()"
   ]
  },
  {
   "cell_type": "markdown",
   "metadata": {},
   "source": [
    "Seems legit.\n",
    "\n",
    "Now, where's the snow? Values 10 through 16 in the merged snow-cover variable all indicate snow, so we'll accept anything in that range:"
   ]
  },
  {
   "cell_type": "code",
   "execution_count": null,
   "metadata": {
    "collapsed": false
   },
   "outputs": [],
   "source": [
    "%matplotlib inline\n",
    "plt.figure(figsize=(10, 10))\n",
    "map = Basemap(projection='npstere', boundinglat=45, lon_0=300)\n",
    "map.drawcoastlines()\n",
    "latitude = np.array(latitude)\n",
    "longitude = np.array(longitude)\n",
    "lats = []\n",
    "lons = []\n",
    "for row in range(0, latitude.shape[0]):\n",
    "    for col in range(0, latitude.shape[1]):\n",
    "        lat = latitude[row][col]\n",
    "        lon = longitude[row][col]\n",
    "        cover = msce[row][col]\n",
    "        if lat >= 45 and cover in range(10, 17):\n",
    "            lats.append(lat)\n",
    "            lons.append(lon)\n",
    "x, y = map(lons, lats)\n",
    "map.plot(x, y, '.', color='Cyan')\n",
    "plt.draw()"
   ]
  },
  {
   "cell_type": "markdown",
   "metadata": {},
   "source": [
    "How about snow **or** permanent ice covered land?"
   ]
  },
  {
   "cell_type": "code",
   "execution_count": null,
   "metadata": {
    "collapsed": false
   },
   "outputs": [],
   "source": [
    "%matplotlib inline\n",
    "plt.figure(figsize=(10, 10))\n",
    "map = Basemap(projection='npstere', boundinglat=45, lon_0=300)\n",
    "map.drawcoastlines()\n",
    "latitude = np.array(latitude)\n",
    "longitude = np.array(longitude)\n",
    "snow_lats = []\n",
    "snow_lons = []\n",
    "ice_lats = []\n",
    "ice_lons = []\n",
    "for row in range(0, latitude.shape[0]):\n",
    "    for col in range(0, latitude.shape[1]):\n",
    "        lat = latitude[row][col]\n",
    "        lon = longitude[row][col]\n",
    "        cover = msce[row][col]\n",
    "        if lat >= 45:\n",
    "            if cover in range(10, 17):\n",
    "                snow_lats.append(lat)\n",
    "                snow_lons.append(lon)\n",
    "            elif cover == 30:\n",
    "                ice_lats.append(lat)\n",
    "                ice_lons.append(lon)\n",
    "snow_x, snow_y = map(snow_lons, snow_lats)\n",
    "map.plot(snow_x, snow_y, '.', color='Cyan')\n",
    "ice_x, ice_y = map(ice_lons, ice_lats)\n",
    "map.plot(ice_x, ice_y, '.', color='Blue')\n",
    "plt.draw()"
   ]
  },
  {
   "cell_type": "markdown",
   "metadata": {},
   "source": [
    "At the end of Module 2, we tried to use OpenDAP to retrieve data only in the area of Iceland. Let's execute that query again:"
   ]
  },
  {
   "cell_type": "code",
   "execution_count": null,
   "metadata": {
    "collapsed": true
   },
   "outputs": [],
   "source": [
    "iceland_url = ('http://opendap.apps.nsidc.org:80/opendap/DATASETS/'\n",
    "       'nsidc0530_MEASURES_nhsnow_daily25/2012/nhtsd25e2_20120101_v01r01.nc?'\n",
    "       'latitude[453:1:476][310:1:338],'\n",
    "       'longitude[453:1:476][310:1:338],'\n",
    "       'merged_snow_cover_extent[0:1:0][453:1:476][310:1:338]'\n",
    ")\n",
    "iceland_dataset = netCDF4.Dataset(iceland_url)\n",
    "iceland_latitude = np.array(iceland_dataset.variables['latitude'])\n",
    "iceland_longitude = np.array(iceland_dataset.variables['longitude'])\n",
    "iceland_msce = np.array(iceland_dataset.variables['merged_snow_cover_extent'])[0, :, :]"
   ]
  },
  {
   "cell_type": "markdown",
   "metadata": {},
   "source": [
    "And now let's plot it on a map and see if the result makes sense:"
   ]
  },
  {
   "cell_type": "code",
   "execution_count": null,
   "metadata": {
    "collapsed": false
   },
   "outputs": [],
   "source": [
    "%matplotlib inline\n",
    "plt.figure(figsize=(10, 10))\n",
    "map = Basemap(projection='npstere', boundinglat=45, lon_0=300)\n",
    "map.drawcoastlines()\n",
    "snow_lats = []\n",
    "snow_lons = []\n",
    "ice_lats = []\n",
    "ice_lons = []\n",
    "for row in range(0, iceland_latitude.shape[0]):\n",
    "    for col in range(0, iceland_latitude.shape[1]):\n",
    "        lat = iceland_latitude[row][col]\n",
    "        lon = iceland_longitude[row][col]\n",
    "        cover = iceland_msce[row][col]\n",
    "        if lat >= 45:\n",
    "            if cover in range(10, 17):\n",
    "                snow_lats.append(lat)\n",
    "                snow_lons.append(lon)\n",
    "            elif cover == 30:\n",
    "                ice_lats.append(lat)\n",
    "                ice_lons.append(lon)\n",
    "snow_x, snow_y = map(snow_lons, snow_lats)\n",
    "map.plot(snow_x, snow_y, '.', color='Cyan')\n",
    "ice_x, ice_y = map(ice_lons, ice_lats)\n",
    "map.plot(ice_x, ice_y, '.', color='Blue')\n",
    "plt.draw()"
   ]
  },
  {
   "cell_type": "markdown",
   "metadata": {},
   "source": [
    "Looks about right, but let's get a closer look. Can we plot a map of just Iceland?"
   ]
  },
  {
   "cell_type": "code",
   "execution_count": null,
   "metadata": {
    "collapsed": false,
    "scrolled": false
   },
   "outputs": [],
   "source": [
    "%matplotlib inline\n",
    "plt.figure(figsize=(10, 10))\n",
    "map = Basemap(projection='merc', llcrnrlon=-25, llcrnrlat=63, urcrnrlon=-13, urcrnrlat=67)\n",
    "map.drawcoastlines()\n",
    "plt.draw()"
   ]
  },
  {
   "cell_type": "markdown",
   "metadata": {},
   "source": [
    "Well, that's pretty awful, and doesn't look much like Iceland:"
   ]
  },
  {
   "cell_type": "markdown",
   "metadata": {},
   "source": [
    "<img src='images/iceland.png' style='height:459px;width:565px;float:left'/>"
   ]
  },
  {
   "cell_type": "markdown",
   "metadata": {},
   "source": [
    "But we can do better, by replacing matplotlib's internal maps with a vector-based shapefile from the [Natural Earth](http://www.naturalearthdata.com/) project. In this case, we'll use Coastlines shapefile from the [1:50m Physical Vectors](http://www.naturalearthdata.com/downloads/50m-physical-vectors/) product. (There are finer 1:10m coastlines, too.)"
   ]
  },
  {
   "cell_type": "code",
   "execution_count": null,
   "metadata": {
    "collapsed": true
   },
   "outputs": [],
   "source": [
    "notebook_dir = %env PWD"
   ]
  },
  {
   "cell_type": "code",
   "execution_count": null,
   "metadata": {
    "collapsed": false
   },
   "outputs": [],
   "source": [
    "%%bash -es $notebook_dir\n",
    "mkdir -p $1/iceland\n",
    "cd $1/iceland\n",
    "wget http://www.naturalearthdata.com/http//www.naturalearthdata.com/download/50m/physical/ne_50m_coastline.zip \\\n",
    "  -O ne_50m_coastline.zip\n",
    "unzip ne_50m_coastline.zip"
   ]
  },
  {
   "cell_type": "code",
   "execution_count": null,
   "metadata": {
    "collapsed": false
   },
   "outputs": [],
   "source": [
    "%matplotlib inline\n",
    "plt.figure(figsize=(10, 10))\n",
    "map = Basemap(projection='merc', llcrnrlon=-25, llcrnrlat=63, urcrnrlon=-13, urcrnrlat=67)\n",
    "map.readshapefile('%s/iceland/ne_50m_coastline' % notebook_dir, 'iceland')\n",
    "plt.draw()"
   ]
  },
  {
   "cell_type": "markdown",
   "metadata": {},
   "source": [
    "That's much better.\n",
    "\n",
    "Let's plot the snow- and ice-cover points. We can re-use the `[snow|ice]_[lats|lons]` variables we computed previously, but need to recompute the coordinates since we are using a different map projection (Mercator, instead of North Polar Stereographic). Let's also make the points bigger to fill in the space better."
   ]
  },
  {
   "cell_type": "code",
   "execution_count": null,
   "metadata": {
    "collapsed": false
   },
   "outputs": [],
   "source": [
    "%matplotlib inline\n",
    "plt.figure(figsize=(10, 10))\n",
    "map = Basemap(projection='merc', llcrnrlon=-25, llcrnrlat=63, urcrnrlon=-13, urcrnrlat=67)\n",
    "map.readshapefile('%s/iceland/ne_50m_coastline' % notebook_dir, 'iceland')\n",
    "snow_x, snow_y = map(snow_lons, snow_lats)\n",
    "map.plot(snow_x, snow_y, '.', color='Cyan', markersize='24')\n",
    "ice_x, ice_y = map(ice_lons, ice_lats)\n",
    "map.plot(ice_x, ice_y, '.', color='Blue', markersize='24')\n",
    "plt.draw()"
   ]
  },
  {
   "cell_type": "markdown",
   "metadata": {},
   "source": [
    "If we add some (admittedly lo-res) background imagery, we can see that the permanent ice is located in what appear to be sensible places:"
   ]
  },
  {
   "cell_type": "code",
   "execution_count": null,
   "metadata": {
    "collapsed": false
   },
   "outputs": [],
   "source": [
    "%matplotlib inline\n",
    "plt.figure(figsize=(10, 10))\n",
    "map = Basemap(projection='merc', llcrnrlon=-25, llcrnrlat=63, urcrnrlon=-13, urcrnrlat=67)\n",
    "map.readshapefile('%s/iceland/ne_50m_coastline' % notebook_dir, 'iceland')\n",
    "map.plot(snow_x, snow_y, '.', color='Cyan', markersize='24')\n",
    "map.plot(ice_x, ice_y, '.', color='Blue', markersize='24')\n",
    "map.bluemarble()\n",
    "plt.draw()"
   ]
  },
  {
   "cell_type": "markdown",
   "metadata": {},
   "source": [
    "In Module 4, we'll look at using pandas to do some data analysis."
   ]
  }
 ],
 "metadata": {
  "kernelspec": {
   "display_name": "Python 3",
   "language": "python",
   "name": "python3"
  },
  "language_info": {
   "codemirror_mode": {
    "name": "ipython",
    "version": 3
   },
   "file_extension": ".py",
   "mimetype": "text/x-python",
   "name": "python",
   "nbconvert_exporter": "python",
   "pygments_lexer": "ipython3",
   "version": "3.5.1"
  }
 },
 "nbformat": 4,
 "nbformat_minor": 0
}
