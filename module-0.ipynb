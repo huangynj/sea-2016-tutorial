{
 "cells": [
  {
   "cell_type": "markdown",
   "metadata": {},
   "source": [
    "# Preparing the software\n",
    "\n",
    "## Using the pre-built virtual machine (_prefered_)\n",
    "\n",
    "### 1. Download and install Oracle VirtualBox\n",
    "\n",
    "- Download the latest VirtualBox platform packages and Oracle VM VirtualBox Extension Pack [here](https://www.virtualbox.org/wiki/Downloads).\n",
    "\n",
    "- Install the VirtualBox platform package.\n",
    " \n",
    " - Linux: Download the appropriate `.deb` or `.rpm` and install via your OS package manager (e.g. apt, yum).\n",
    " \n",
    " - OS X: Download the `.dmg` image, double click, and follow the instructions.\n",
    " \n",
    " - Windows: Download and run the `.exe` installer, and follow the instructions.\n",
    " \n",
    " -  See the [installation instructions](https://www.virtualbox.org/manual/ch02.html) if you have problems.\n",
    "\n",
    "- Install the Extension Pack.\n",
    "\n",
    " - Double-click the extension-pack installer file you downloaded and follow the prompts.\n",
    "\n",
    "### 2. Get the virtual machine\n",
    "\n",
    "- Download the virtual machine archive *HERE -- WHERE DO WE HOST THIS?*\n",
    "\n",
    "- Extract the archive, open the extracted folder, and double-click on the `.vbox` file.VirtualBox should launch and start the virtual machine.\n",
    "\n",
    "### 3. Connect to Jupyter\n",
    "\n",
    "- When you see the virtual machine's login prompt, navigate to [http://localhost:8888](http://localhost:8888) in your browser.\n",
    "\n",
    "- Log in with username `jupyter` and password `jupyter`.\n",
    "\n",
    "- Click to open the `sea-2016-tutorial` link and you should see a list of the `.ipynb` noteboo files for the tutorial.\n",
    "\n",
    "## Using Anaconda\n",
    "\n",
    "### 1. Download and install Anaconda\n",
    "\n",
    "- Download Anaconda (Python 3.5 version) and follow the installation instructions [here](https://www.continuum.io/downloads).\n",
    "\n",
    "### 2. Download the tutorial files\n",
    "\n",
    "- Visit the [GitHub page](https://github.com/p-madden/sea-2016-tutorial) for this tutorial, and either `git clone` the repo or download and expand the zipfile.\n",
    "\n",
    "### 3. Connect to Jupyter\n",
    "\n",
    "- On the command line, `cd` into the directory containing the tutorial files and run `jupyter notebook`.\n",
    "\n",
    "- Your browser should open to Jupyter, and you should see a list of the `.ipynb` notebooks for the tutorial.\n",
    "\n",
    "_ **Note:** We will have removable media with the software-intstaller and tutorial files available at the tutorial for those who have problems installing the software ahead of time, but **please** try to prepare your software in advance!_\n"
   ]
  }
 ],
 "metadata": {
  "kernelspec": {
   "display_name": "Python 2",
   "language": "python",
   "name": "python2"
  },
  "language_info": {
   "codemirror_mode": {
    "name": "ipython",
    "version": 2
   },
   "file_extension": ".py",
   "mimetype": "text/x-python",
   "name": "python",
   "nbconvert_exporter": "python",
   "pygments_lexer": "ipython2",
   "version": "2.7.11"
  }
 },
 "nbformat": 4,
 "nbformat_minor": 0
}
