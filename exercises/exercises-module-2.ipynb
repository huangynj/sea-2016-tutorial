{
 "cells": [
  {
   "cell_type": "markdown",
   "metadata": {
    "ein.tags": [
     "worksheet-0"
    ]
   },
   "source": [
    "<p style=\"float:right\">\n",
    "<img src=\"../images/logos/cu.png\" style=\"display:inline\" />\n",
    "<img src=\"../images/logos/cires.png\" style=\"display:inline\" />\n",
    "<img src=\"../images/logos/nasa.png\" style=\"display:inline\" />\n",
    "<img src=\"../images/logos/nsidc_daac.png\" style=\"display:inline\" />\n",
    "</p>\n",
    "\n",
    "# Python, Jupyter & pandas: Exercises for Module 2"
   ]
  },
  {
   "cell_type": "code",
   "execution_count": null,
   "metadata": {
    "collapsed": true
   },
   "outputs": [],
   "source": [
    "import numpy as np"
   ]
  },
  {
   "cell_type": "markdown",
   "metadata": {},
   "source": [
    "For this exercise, we'll use data from January 1 of a different year than the one we worked with in Module 2."
   ]
  },
  {
   "cell_type": "code",
   "execution_count": null,
   "metadata": {
    "collapsed": false
   },
   "outputs": [],
   "source": [
    "import netCDF4\n",
    "url = ('http://opendap.apps.nsidc.org:80/opendap/DATASETS/'\n",
    "       'nsidc0530_MEASURES_nhsnow_daily25/2010/nhtsd25e2_20100101_v01r01.nc'\n",
    ")\n",
    "dataset = netCDF4.Dataset(url)"
   ]
  },
  {
   "cell_type": "code",
   "execution_count": null,
   "metadata": {
    "collapsed": false
   },
   "outputs": [],
   "source": [
    "latitude = dataset.variables['latitude']\n",
    "longitude = dataset.variables['longitude']\n",
    "lat = latitude[:]\n",
    "lon = longitude[:]"
   ]
  },
  {
   "cell_type": "markdown",
   "metadata": {},
   "source": [
    "In Module 2, we looked at *merged_snow_cover_extent*, which is merged from some other variables found in the dataset. For this exercise, let's work with one of those other variables, *ims_snow_cover_extent*."
   ]
  },
  {
   "cell_type": "markdown",
   "metadata": {},
   "source": [
    "Save the *ims_snow_cover_extent* to a variable named `isce`."
   ]
  },
  {
   "cell_type": "code",
   "execution_count": null,
   "metadata": {
    "collapsed": true
   },
   "outputs": [],
   "source": [
    "isce = "
   ]
  },
  {
   "cell_type": "markdown",
   "metadata": {},
   "source": [
    "In Module 2, we used matplotlib to visualize the variable *merged_snow_cover_extent* for the whole dataset. We selected 0 for `time`, and all the values for the `latitude` and `longitude`."
   ]
  },
  {
   "cell_type": "code",
   "execution_count": null,
   "metadata": {
    "collapsed": true
   },
   "outputs": [],
   "source": [
    "%matplotlib inline\n",
    "import matplotlib.pyplot as plt"
   ]
  },
  {
   "cell_type": "markdown",
   "metadata": {},
   "source": [
    "Plot all the *ims_snow_cover_extent* data the same way we plotted the data for *merged_snow_cover_extent* in Module 2."
   ]
  },
  {
   "cell_type": "code",
   "execution_count": null,
   "metadata": {
    "collapsed": false,
    "scrolled": true
   },
   "outputs": [],
   "source": []
  },
  {
   "cell_type": "markdown",
   "metadata": {},
   "source": [
    "Given that Alaska lies approximately between 51 and 72 degrees North, and 129 and 179 degrees west, find a bounding box on the dataset using `lat` and `lon` that will encompass Alaska. (we did this in Module 2 for Iceland)"
   ]
  },
  {
   "cell_type": "code",
   "execution_count": null,
   "metadata": {
    "collapsed": false
   },
   "outputs": [],
   "source": []
  },
  {
   "cell_type": "markdown",
   "metadata": {},
   "source": [
    "Now, use the values of the bounding box to plot the *ims_snow_cover_extent*, narrowing the focus to just Alaska. "
   ]
  },
  {
   "cell_type": "code",
   "execution_count": null,
   "metadata": {
    "collapsed": false
   },
   "outputs": [],
   "source": []
  },
  {
   "cell_type": "markdown",
   "metadata": {},
   "source": [
    "Create the OPeNDAP URL with subsetting for Alaska only."
   ]
  },
  {
   "cell_type": "code",
   "execution_count": null,
   "metadata": {
    "collapsed": true
   },
   "outputs": [],
   "source": [
    "url = "
   ]
  },
  {
   "cell_type": "code",
   "execution_count": null,
   "metadata": {
    "collapsed": true
   },
   "outputs": [],
   "source": [
    "dataset = netCDF4.Dataset(url)\n",
    "isce = dataset.variables['ims_snow_cover_extent']"
   ]
  },
  {
   "cell_type": "markdown",
   "metadata": {},
   "source": [
    "Now, plot all of the data; since subsetting was already applied to the request, the picture of \"all the data\" here should match the picture of just Alaska above."
   ]
  },
  {
   "cell_type": "code",
   "execution_count": null,
   "metadata": {
    "collapsed": false
   },
   "outputs": [],
   "source": []
  }
 ],
 "metadata": {
  "kernelspec": {
   "display_name": "Python 3",
   "language": "python",
   "name": "python3"
  },
  "language_info": {
   "codemirror_mode": {
    "name": "ipython",
    "version": 3
   },
   "file_extension": ".py",
   "mimetype": "text/x-python",
   "name": "python",
   "nbconvert_exporter": "python",
   "pygments_lexer": "ipython3",
   "version": "3.5.1"
  },
  "name": "module-0.ipynb"
 },
 "nbformat": 4,
 "nbformat_minor": 0
}
