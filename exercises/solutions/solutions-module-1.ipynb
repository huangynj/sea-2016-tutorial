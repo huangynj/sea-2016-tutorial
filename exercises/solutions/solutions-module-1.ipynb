{
 "cells": [
  {
   "cell_type": "markdown",
   "metadata": {
    "ein.tags": [
     "worksheet-0"
    ]
   },
   "source": [
    "<p style=\"float:right\">\n",
    "<img src=\"../images/logos/cu.png\" style=\"display:inline\" />\n",
    "<img src=\"../images/logos/cires.png\" style=\"display:inline\" />\n",
    "<img src=\"../images/logos/nasa.png\" style=\"display:inline\" />\n",
    "<img src=\"../images/logos/nsidc_daac.png\" style=\"display:inline\" />\n",
    "</p>\n",
    "\n",
    "# Python, Jupyter & pandas: Solutions for Module 1"
   ]
  },
  {
   "cell_type": "markdown",
   "metadata": {},
   "source": [
    "Let's define two Python list (vector) variables containing some small integers:"
   ]
  },
  {
   "cell_type": "code",
   "execution_count": null,
   "metadata": {
    "collapsed": false
   },
   "outputs": [],
   "source": [
    "v1 = [0, 1, 2, 3, 4]\n",
    "v2 = [4, 3, 2, 1, 0]"
   ]
  },
  {
   "cell_type": "markdown",
   "metadata": {},
   "source": [
    "Enter the names of these two variables, each in their own cell, to print their contents:"
   ]
  },
  {
   "cell_type": "code",
   "execution_count": null,
   "metadata": {
    "collapsed": false
   },
   "outputs": [],
   "source": [
    "v1"
   ]
  },
  {
   "cell_type": "code",
   "execution_count": null,
   "metadata": {
    "collapsed": false
   },
   "outputs": [],
   "source": [
    "v2"
   ]
  },
  {
   "cell_type": "markdown",
   "metadata": {},
   "source": [
    "Let's say that we'd like a third vector, `v3` whose elements represent the ratio of the correcponding elements of v1 and v2. That is, `v3`'s first element should contain the ratio of `v1`'s first element to `v2`'s first element, and so on. Doing this the obvious way, `v3 = v1 / v2`, won't work, but let's try anyway."
   ]
  },
  {
   "cell_type": "code",
   "execution_count": null,
   "metadata": {
    "collapsed": false
   },
   "outputs": [],
   "source": [
    "v3 = v1 / v2"
   ]
  },
  {
   "cell_type": "markdown",
   "metadata": {},
   "source": [
    "Right, we can take the ratio of two lists. But we _can_ take the ratio of two NumPy arrays. So import the NumPy library, giving it the customary name `np`:"
   ]
  },
  {
   "cell_type": "code",
   "execution_count": null,
   "metadata": {
    "collapsed": true
   },
   "outputs": [],
   "source": [
    "import numpy as np"
   ]
  },
  {
   "cell_type": "markdown",
   "metadata": {},
   "source": [
    "Now create NumPy arrays `a1` and `a2` using `v1` and `v2` as input, respectively:"
   ]
  },
  {
   "cell_type": "code",
   "execution_count": null,
   "metadata": {
    "collapsed": true
   },
   "outputs": [],
   "source": [
    "a1 = np.array(v1)\n",
    "a2 = np.array(v2)"
   ]
  },
  {
   "cell_type": "markdown",
   "metadata": {},
   "source": [
    "And define `a3` as the ratio of `a1`'s elements to `a2`'s elements:"
   ]
  },
  {
   "cell_type": "code",
   "execution_count": null,
   "metadata": {
    "collapsed": false
   },
   "outputs": [],
   "source": [
    "a3 = a1 / a2"
   ]
  },
  {
   "cell_type": "markdown",
   "metadata": {},
   "source": [
    "You probably will have seen a warning when evaluating the previous cell. Print out the value of `a3` now and see what you got:"
   ]
  },
  {
   "cell_type": "code",
   "execution_count": null,
   "metadata": {
    "collapsed": false
   },
   "outputs": [],
   "source": [
    "a3"
   ]
  },
  {
   "cell_type": "markdown",
   "metadata": {},
   "source": [
    "One of `a3`'s values is different in a bad way, for what is probably an obvious reason. Let's now turn our NumPy array into a pandas series and filter out that bad value.\n",
    "\n",
    "First, import pandas with the conventional name `pd`."
   ]
  },
  {
   "cell_type": "code",
   "execution_count": null,
   "metadata": {
    "collapsed": true
   },
   "outputs": [],
   "source": [
    "import pandas as pd"
   ]
  },
  {
   "cell_type": "markdown",
   "metadata": {},
   "source": [
    "Now create a `Series` called `s` using `a3` as input."
   ]
  },
  {
   "cell_type": "code",
   "execution_count": null,
   "metadata": {
    "collapsed": true
   },
   "outputs": [],
   "source": [
    "s = pd.Series(a3)"
   ]
  },
  {
   "cell_type": "markdown",
   "metadata": {},
   "source": [
    "Since pandas series are NumPy arrays under the hood, we can use functions provided by `np` on a pandas `Series`. One nice one is `np.isfinite()`, which returns an array of boolean `True` or `False` values depending on whether the corresponding array elements are finite numbers. Try calling this function with `s` as input."
   ]
  },
  {
   "cell_type": "code",
   "execution_count": null,
   "metadata": {
    "collapsed": false
   },
   "outputs": [],
   "source": [
    "np.isfinite(s)"
   ]
  },
  {
   "cell_type": "markdown",
   "metadata": {},
   "source": [
    "Recall how we used the syntax `df[df['elapsed'] >= 40]` earlier to filter a pandas `DataFrame`. The bit inside the outermost square brackets is equivalent to an array of boolean values. The whole expression says: \"Show me the elements of `df` where the corresponding boolean value is `True`\". Do something similar with `s` and `np.isfinite` to show only the finite values of `s`."
   ]
  },
  {
   "cell_type": "code",
   "execution_count": null,
   "metadata": {
    "collapsed": false
   },
   "outputs": [],
   "source": [
    "s[np.isfinite(s)]"
   ]
  }
 ],
 "metadata": {
  "kernelspec": {
   "display_name": "Python 3",
   "language": "python",
   "name": "python3"
  },
  "language_info": {
   "codemirror_mode": {
    "name": "ipython",
    "version": 3
   },
   "file_extension": ".py",
   "mimetype": "text/x-python",
   "name": "python",
   "nbconvert_exporter": "python",
   "pygments_lexer": "ipython3",
   "version": "3.5.1"
  },
  "name": "module-0.ipynb"
 },
 "nbformat": 4,
 "nbformat_minor": 0
}
