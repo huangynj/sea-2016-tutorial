{
 "cells": [
  {
   "cell_type": "markdown",
   "metadata": {
    "collapsed": true
   },
   "source": [
    "<p style=\"float:right\">\n",
    "<img src=\"images/logos/cu.png\" style=\"display:inline\" />\n",
    "<img src=\"images/logos/cires.png\" style=\"display:inline\" />\n",
    "<img src=\"images/logos/nasa.png\" style=\"display:inline\" />\n",
    "<img src=\"images/logos/nsidc_daac.png\" style=\"display:inline\" />\n",
    "</p>\n",
    "\n",
    "# Python, Jupyter & pandas: Module 6\n",
    "\n",
    "## Sharing and collaboration\n",
    "\n",
    "In Module 6, we'll look at some options for sharing and collaborating via Jupyter notebooks.\n",
    "\n",
    "### Static solutions"
   ]
  },
  {
   "cell_type": "markdown",
   "metadata": {},
   "source": [
    "#### nbviewer\n",
    "\n",
    "[NBViewer](http://nbviewer.jupyter.org/) service, provided by Project Jupyter itself, provides a way to share static, pre-rendered Jupyter notebooks by URL, GitHub username (and, optionally, public repo name), or GitHub gist ID.\n",
    "\n",
    "nbviewer-hosted notebooks cannot be edited live, and cells are shown with their last-recorded evaluation."
   ]
  },
  {
   "cell_type": "markdown",
   "metadata": {},
   "source": [
    "#### GitHub\n",
    "\n",
    "GitHub [offers notebook viewing](https://github.com/blog/1995-github-jupyter-notebooks-3) for notebooks hosted with them, either as repo contents or gists. Like NBViewer, GitHub-rendered notebooks cannot be edited live and show their saved evaluation state.\n",
    "\n",
    "GitHub maintains a list of [interesting IPython notebooks](http://localhost:8888/notebooks/module-6.ipynb)."
   ]
  },
  {
   "cell_type": "markdown",
   "metadata": {},
   "source": [
    "### Dynamic Solutions"
   ]
  },
  {
   "cell_type": "markdown",
   "metadata": {},
   "source": [
    "#### tmpnb\n",
    "\n",
    "[Rackspace](https://www.rackspace.com) provides a free service, [tmpnb](https://www.rackspace.com) for live Jupyter notebooks. You can upload, or create interactively, a notebook on the site, then edit and evaluate cells live.\n",
    "\n",
    "However, as the _tmp_ in _tmpnb_ suggests, notebooks are temporary: They are deleted after 10 minutes of inactivity.\n",
    "\n",
    "Also, it's possible that not every package you'll want to use will be available. You can look at the available installed packages with this code snippet:"
   ]
  },
  {
   "cell_type": "code",
   "execution_count": null,
   "metadata": {
    "collapsed": false
   },
   "outputs": [],
   "source": [
    "import pip\n",
    "for package in sorted(['%s==%s' % (x.key, x.version) for x in pip.get_installed_distributions()]):\n",
    "    print(package)"
   ]
  },
  {
   "cell_type": "markdown",
   "metadata": {},
   "source": [
    "#### JupyterHub\n",
    "\n",
    "[JupyterHub](https://github.com/jupyter/jupyterhub) is a multi-user server providing functionality similar to tmpnb, but hosted on your own system, giving you more options and greater control. JupyterHub notebooks are not temporary like tmpnb's, and you can make whatever Python packages you like available to your users by installing them on the system running the JupyterHub server.\n",
    "\n",
    "In fact, if you have been using the provided VirtualBox virtual machine image for this tutorial, you have been using JupyterHub."
   ]
  }
 ],
 "metadata": {
  "kernelspec": {
   "display_name": "Python 3",
   "language": "python",
   "name": "python3"
  },
  "language_info": {
   "codemirror_mode": {
    "name": "ipython",
    "version": 3
   },
   "file_extension": ".py",
   "mimetype": "text/x-python",
   "name": "python",
   "nbconvert_exporter": "python",
   "pygments_lexer": "ipython3",
   "version": "3.5.1"
  }
 },
 "nbformat": 4,
 "nbformat_minor": 0
}
