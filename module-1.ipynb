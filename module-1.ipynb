{
 "cells": [
  {
   "cell_type": "markdown",
   "metadata": {
    "collapsed": true
   },
   "source": [
    "<p style=\"float:right\">\n",
    "<img src=\"images/cu.png\" style=\"display:inline\" />\n",
    "<img src=\"images/cires.png\" style=\"display:inline\" />\n",
    "<img src=\"images/nasa.png\" style=\"display:inline\" />\n",
    "</p>\n",
    "\n",
    "# Python, Jupyter & pandas tutorial: Module 1\n",
    "\n",
    "## Introduction and background\n",
    "\n",
    "### Python\n",
    "\n",
    "- First released in 1991 and actively developed since then\n",
    "- Extremely successful and popular, obviously\n",
    "- But, as an interpreted language, relatively slow vs e.g. C or Fortran\n",
    "- Also, Python's `List` object can be awkward in numerical contexts:"
   ]
  },
  {
   "cell_type": "code",
   "execution_count": null,
   "metadata": {
    "collapsed": false
   },
   "outputs": [],
   "source": [
    "v1 = [1.0, 2.0, 3.0, 4.0]\n",
    "v1 * 3"
   ]
  },
  {
   "cell_type": "markdown",
   "metadata": {},
   "source": [
    "### NumPy\n",
    "\n",
    "- Python's applicability to problems in science was bolstered by NumPy\n",
    "    - Released in 2006\n",
    "    - Built on the capabilities of Numeric, which appeard in 1995\n",
    "    - Technically part of the larger SciPy ecosystem, but can be installed independently"
   ]
  },
  {
   "cell_type": "code",
   "execution_count": null,
   "metadata": {
    "collapsed": true
   },
   "outputs": [],
   "source": [
    "import numpy as np"
   ]
  },
  {
   "cell_type": "markdown",
   "metadata": {},
   "source": [
    "- NumPy provides support for large, multidimensional arrays / matrices with natural semantics..."
   ]
  },
  {
   "cell_type": "code",
   "execution_count": null,
   "metadata": {
    "collapsed": false
   },
   "outputs": [],
   "source": [
    "v2 = np.array(v1)\n",
    "v2 * 3"
   ]
  },
  {
   "cell_type": "markdown",
   "metadata": {},
   "source": [
    "- ... and functions useful for working with such objects:"
   ]
  },
  {
   "cell_type": "code",
   "execution_count": null,
   "metadata": {
    "collapsed": false
   },
   "outputs": [],
   "source": [
    "v2.reshape(2,2)"
   ]
  },
  {
   "cell_type": "markdown",
   "metadata": {},
   "source": [
    "- The `array()` function is just a wrapper around the ubiquitious (but more complicated) `ndarray` (_n-dimensional array_) type, which lies at the heart of NumPy:"
   ]
  },
  {
   "cell_type": "code",
   "execution_count": null,
   "metadata": {
    "collapsed": false
   },
   "outputs": [],
   "source": [
    "type(v2)"
   ]
  },
  {
   "cell_type": "markdown",
   "metadata": {},
   "source": [
    "- `ndarray` has [lots of powerful functions](http://docs.scipy.org/doc/numpy-1.10.0/reference/generated/numpy.ndarray.html) and NumPy as a whole provides a [wide range of numerical routines](https://docs.scipy.org/doc/numpy/reference/routines.html) in areas such as linear algebra, finance, logic, trigonometry, etc. built to work on NumPy data structures."
   ]
  },
  {
   "cell_type": "markdown",
   "metadata": {},
   "source": [
    "- In addition to functionality, NumPy provides better performance by\n",
    "    - Expressing `ndarray` as a type-homogenous, densely-packed memory representation vs `List`'s dynamic arrays\n",
    "    - Implementing underlying routines in C or Fortran, with conveient Python wrappers\n",
    "    - Reusing well-tuned libraries like BLAS for linear algebra"
   ]
  },
  {
   "cell_type": "markdown",
   "metadata": {},
   "source": [
    "### pandas\n",
    "\n",
    "- Pandas builds on NumPy and adds higher-level data-manipulation capabilities."
   ]
  },
  {
   "cell_type": "code",
   "execution_count": null,
   "metadata": {
    "collapsed": false
   },
   "outputs": [],
   "source": [
    "import pandas as pd"
   ]
  },
  {
   "cell_type": "markdown",
   "metadata": {
    "collapsed": true
   },
   "source": [
    "- As `ndarray` is NumPy's essential data structure, `DataFrame` is pandas'.\n",
    "- _\"Two-dimensional size-mutable, potentially heterogeneous tabular data structure with labeled axes (rows and columns).\"_"
   ]
  },
  {
   "cell_type": "markdown",
   "metadata": {},
   "source": [
    "# NEED SOME _SIMPLE_ ILLUSTRATIVE EXAMPLE(S) HERE"
   ]
  },
  {
   "cell_type": "markdown",
   "metadata": {},
   "source": [
    "### Jupyter\n",
    "\n",
    "- Jupyter is the evolution of the iPython project\n",
    "    - iPython provides an interactive Python shell with facilities for code and text editing, data visualization, and compute parallelism\n",
    "    - Similar to Mathematica notebooks\n",
    "    - iPython Notebook uses a web browser interface\n",
    "- Extends iPython to support \"over 40\" programming languages -- not just Python\n",
    "- Browser environment\n",
    "    - Home tab\n",
    "        - _Files_\n",
    "        - _Running_\n",
    "        - _Clusters_\n",
    "    - Notebook tab\n",
    "        - Cells\n",
    "            - When to create new cells\n",
    "            - Shift + Return to evaluate a cell\n",
    "            - _Cell_ menu: Run all, all above, etc.\n",
    "            - Clearing output: _Cell_ > _Current Outputs_ > _Clear_ vs _Cell_ > _All Output_\n",
    "            - Restarting kernel\n",
    "            - Cut/copy/paste/move cells\n",
    "            - Checkpoints\n",
    "            - Keyboard shortcuts\n",
    "        - Text formatting with Markdown\n",
    "            - You're looking at it!\n",
    "        - LaTeX support\n",
    "            - Use in Markdown cells, e.g.:\n",
    "$$e^x=\\sum_{i=0}^\\infty \\frac{1}{i!}x^i$$\n",
    "        - Magics"
   ]
  },
  {
   "cell_type": "code",
   "execution_count": null,
   "metadata": {
    "collapsed": false
   },
   "outputs": [],
   "source": [
    "%lsmagic"
   ]
  },
  {
   "cell_type": "code",
   "execution_count": null,
   "metadata": {
    "collapsed": false
   },
   "outputs": [],
   "source": [
    "%ls"
   ]
  },
  {
   "cell_type": "code",
   "execution_count": null,
   "metadata": {
    "collapsed": false
   },
   "outputs": [],
   "source": [
    "import time\n",
    "%timeit time.sleep(1)"
   ]
  },
  {
   "cell_type": "code",
   "execution_count": null,
   "metadata": {
    "collapsed": false
   },
   "outputs": [],
   "source": [
    "%%time\n",
    "time.sleep(1)\n",
    "time.sleep(2)"
   ]
  },
  {
   "cell_type": "code",
   "execution_count": null,
   "metadata": {
    "collapsed": false
   },
   "outputs": [],
   "source": [
    "%%ruby\n",
    "3.times { puts 'hello' }"
   ]
  },
  {
   "cell_type": "code",
   "execution_count": null,
   "metadata": {
    "collapsed": false
   },
   "outputs": [],
   "source": [
    "%%script bash\n",
    "whoami"
   ]
  },
  {
   "cell_type": "code",
   "execution_count": null,
   "metadata": {
    "collapsed": false
   },
   "outputs": [],
   "source": [
    "%%latex\n",
    "$n^2 + 1$"
   ]
  }
 ],
 "metadata": {
  "kernelspec": {
   "display_name": "Python 3",
   "language": "python",
   "name": "python3"
  },
  "language_info": {
   "codemirror_mode": {
    "name": "ipython",
    "version": 3
   },
   "file_extension": ".py",
   "mimetype": "text/x-python",
   "name": "python",
   "nbconvert_exporter": "python",
   "pygments_lexer": "ipython3",
   "version": "3.5.1"
  }
 },
 "nbformat": 4,
 "nbformat_minor": 0
}
